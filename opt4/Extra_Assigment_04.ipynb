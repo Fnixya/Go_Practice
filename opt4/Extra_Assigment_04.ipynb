{
  "cells": [
    {
      "cell_type": "markdown",
      "metadata": {
        "id": "tUwZG1Zu31DZ"
      },
      "source": [
        "# **Exercise: Accelerating Jacobi's Method for Eigenvalue Computation**\n",
        "\n",
        "Jacobi's method iteratively reduces off-diagonal elements of a symmetric matrix to zero. However, due to numerical effects, previously eliminated off-diagonal elements may reappear, requiring many iterations for full convergence.\n",
        "\n",
        "To accelerate convergence, we first reduce the matrix to tridiagonal form before applying Jacobi's method. This reduction preserves certain off-diagonal zeros throughout the iterations, improving efficiency.\n",
        "\n",
        "## **Tasks**\n",
        "\n",
        "### (i) Implement Tridiagonal Reduction\n",
        "- Write a Python script that first reduces a given symmetric matrix to tridiagonal form before applying Jacobi's method. Consider implementing Householder reduction.\n",
        "- Verify that your script correctly maintains the structure of a tridiagonal matrix throughout the iterations.\n",
        "\n",
        "### (ii) Compare Performance Using Iteration Count\n",
        "Instead of measuring execution time, compare the **number of iterations required for convergence**, as this provides a more reliable efficiency metric.\n",
        "\n",
        "1. Implement both:\n",
        "   - The **standard Jacobi method**.\n",
        "   - The **tridiagonalized Jacobi method** (applying tridiagonal reduction first).\n",
        "2. Set the convergence criterion discussed in class (Jacobi's notes, *Section 2.2.3*)\n",
        "\n",
        "3. Generate a sequence of random symmetric matrices of size $N \\times N$ and test both scripts. Count the number of iterations required for each method to meet the convergence criteria.\n",
        "\n",
        "   ```python\n",
        "   import numpy as np\n",
        "\n",
        "   def generate_symmetric_matrix(N):\n",
        "       A = np.random.rand(N, N)\n",
        "       return (A + A.T) / 2  # Ensure symmetry\n",
        "\n",
        "   N_values = [4, 8, 16, 32, 64, 128, 256, ...]\n",
        "   matrices = [generate_symmetric_matrix(N) for N in N_values]\n",
        "   ```\n",
        "\n",
        "### (iii) Analyze and Discuss Results\n",
        "- Compare how the number of iterations scales with $N$.\n",
        "- Does tridiagonal reduction significantly speed up convergence?\n",
        "- How does the efficiency improvement change for large matrices?\n",
        "- Verify eigenvalues using `numpy.linalg.eigh()`.\n",
        "- Extend the analysis by plotting the decay of the sum of squared off-diagonal elements over iterations."
      ]
    },
    {
      "cell_type": "markdown",
      "metadata": {},
      "source": [
        "## **Implementation**\n",
        "We define some auxiliary functions to implement the optimized version of the Jacobi Method using householder matrices."
      ]
    },
    {
      "cell_type": "code",
      "execution_count": null,
      "metadata": {
        "id": "dlB9xd6U5nbN"
      },
      "outputs": [],
      "source": [
        "import numpy as np\n",
        "np.set_printoptions(formatter={'float': lambda x: \"{0:0.3f}\".format(x)})\n",
        "\n",
        "class MatrixTrasformations():\n",
        "    @staticmethod\n",
        "    def householder(u):\n",
        "        \"\"\"Construct the householder matrix given a vector u: nx1\"\"\"\n",
        "        n = u.shape[0]\n",
        "        u = u/np.linalg.norm(u)\n",
        "        return np.eye(n) - 2*np.outer(u, u)\n",
        "\n",
        "    @staticmethod\n",
        "    def to_upper_hessenberg(A: np.ndarray) -> np.ndarray:\n",
        "        \"\"\"Transforms a matrix into upper Hessenberg form through Householder reflexions\"\"\"\n",
        "        T = A.copy().astype(float)\n",
        "        n = A.shape[0]\n",
        "        for i in range(n-2):\n",
        "            x = T[i+1:, i]\n",
        "            Hx = np.zeros(n-i-1) \n",
        "            Hx[0] = -np.sign(x[0]) * np.linalg.norm(x)\n",
        "            H = np.eye(n)\n",
        "            H[i+1:, i+1:] = MatrixTrasformations.householder(x-Hx)\n",
        "            T = H @ T @ H\n",
        "        return T\n",
        "\n",
        "# Create an alias for MatrixTrasformations class\n",
        "mt = MatrixTrasformations"
      ]
    },
    {
      "cell_type": "code",
      "execution_count": 64,
      "metadata": {},
      "outputs": [
        {
          "name": "stdout",
          "output_type": "stream",
          "text": [
            "[[0.659 0.079 0.757 0.978]\n",
            " [0.367 0.602 0.678 0.210]\n",
            " [0.990 0.996 0.127 0.453]\n",
            " [0.613 0.265 0.249 0.030]]\n",
            "[[0.659 -1.129 -0.328 0.393]\n",
            " [-1.221 0.911 -0.861 -0.269]\n",
            " [-0.000 -0.595 0.168 -0.178]\n",
            " [-0.000 -0.000 -0.232 -0.321]]\n"
          ]
        }
      ],
      "source": [
        "N = 4\n",
        "A = np.random.rand(N, N)\n",
        "print(A)\n",
        "print(mt.to_upper_hessenberg(A))"
      ]
    },
    {
      "cell_type": "code",
      "execution_count": null,
      "metadata": {},
      "outputs": [],
      "source": [
        "class JacobiMethod():\n",
        "    @staticmethod\n",
        "    def sum(D, n):\n",
        "        return np.sqrt(np.sum(np.diag(D)**2)/n)\n",
        "\n",
        "def jacobi_method(A: np.ndarray, tol=10e-4):\n",
        "    \"\"\"\n",
        "    Jacobi method for finding eigenvalues and eigenvectors of a matrix A.\n",
        "\n",
        "    Args:\n",
        "    - A (numpy.ndarray): A square matrix (nxn).\n",
        "    - tol (float): The tolerance for convergence.\n",
        "\n",
        "    Returns:\n",
        "    - V (numpy.ndarray): Matrix of eigenvectors.\n",
        "    - D (numpy.ndarray): Diagonal matrix of eigenvalues.\n",
        "    - it (int): Number of iterations.\n",
        "    \"\"\"\n",
        "    # Initialize V, D, and parameters:\n",
        "    n = A.shape[0]\n",
        "    D = A.copy().astype(float)\n",
        "    V = np.eye(n)\n",
        "\n",
        "    # Calculate row p and column q of the off-diagonal element of greatest magnitude in D:\n",
        "    it = 1\n",
        "    matrix = np.tril(np.abs(D - np.diag(np.diag(D))),-1)\n",
        "    p, q = np.unravel_index(np.argmax(matrix), matrix.shape)\n",
        "    while np.abs(D[p, q]) > tol*JacobiMethod.sum(D, n):\n",
        "        # Compute rotation parameters\n",
        "        beta = (D[q, q] - D[p, p]) / (2 * D[p, q])\n",
        "        t = np.sign(beta) / (np.abs(beta) + np.sqrt(beta**2 + 1))\n",
        "        c = 1 / np.sqrt(1 + t**2)\n",
        "        s = c * t\n",
        "        R = np.array([[c, s], [-s, c]])\n",
        "\n",
        "        # Zero out D_pq and D_qp\n",
        "        D[[p, q], :] = np.dot(R.T, D[[p, q], :])\n",
        "        D[:, [p, q]] = np.dot(D[:, [p, q]], R)\n",
        "        V[:, [p, q]] = np.dot(V[:, [p, q]], R)\n",
        "\n",
        "        # Update row p and column q of the off-diagonal element of greatest magnitude in D for the next iteration:\n",
        "        it += 1\n",
        "        matrix = np.tril(np.abs(D - np.diag(np.diag(D))),-1)\n",
        "        p, q = np.unravel_index(np.argmax(matrix), matrix.shape)\n",
        "\n",
        "    return np.diag(D), V, it\n",
        "\n",
        "def tri_jacobi_method(A: np.ndarray, tol=10e-4):\n",
        "    A = mt.to_upper_hessenberg(A)\n",
        "    return jacobi_method(A, tol)"
      ]
    },
    {
      "cell_type": "markdown",
      "metadata": {},
      "source": [
        "We generate a sample of symmetric matrices"
      ]
    },
    {
      "cell_type": "code",
      "execution_count": 66,
      "metadata": {},
      "outputs": [],
      "source": [
        "def generate_symmetric_matrix(N):\n",
        "    A = np.random.rand(N, N)\n",
        "    return (A + A.T) / 2  # Ensure symmetry\n",
        "\n",
        "N_values = [4, 8, 16, 32, 64, 128, 256]\n",
        "matrices = [generate_symmetric_matrix(N) for N in N_values]"
      ]
    },
    {
      "cell_type": "markdown",
      "metadata": {},
      "source": [
        "And compare the efficiency from each algorithm"
      ]
    },
    {
      "cell_type": "code",
      "execution_count": 74,
      "metadata": {},
      "outputs": [
        {
          "ename": "KeyboardInterrupt",
          "evalue": "",
          "output_type": "error",
          "traceback": [
            "\u001b[1;31m---------------------------------------------------------------------------\u001b[0m",
            "\u001b[1;31mKeyboardInterrupt\u001b[0m                         Traceback (most recent call last)",
            "Cell \u001b[1;32mIn[74], line 4\u001b[0m\n\u001b[0;32m      2\u001b[0m tjm_results \u001b[38;5;241m=\u001b[39m []\n\u001b[0;32m      3\u001b[0m \u001b[38;5;28;01mfor\u001b[39;00m n, A \u001b[38;5;129;01min\u001b[39;00m \u001b[38;5;28mzip\u001b[39m(N_values, matrices):\n\u001b[1;32m----> 4\u001b[0m     jm_results\u001b[38;5;241m.\u001b[39mappend(\u001b[43mjacobi_method\u001b[49m\u001b[43m(\u001b[49m\u001b[43mA\u001b[49m\u001b[43m)\u001b[49m)\n\u001b[0;32m      5\u001b[0m     tjm_results\u001b[38;5;241m.\u001b[39mappend(tri_jacobi_method(A))\n",
            "Cell \u001b[1;32mIn[72], line 38\u001b[0m, in \u001b[0;36mjacobi_method\u001b[1;34m(A, tol)\u001b[0m\n\u001b[0;32m     36\u001b[0m \u001b[38;5;66;03m# Zero out Dpq and Dqp\u001b[39;00m\n\u001b[0;32m     37\u001b[0m D[[p, q], :] \u001b[38;5;241m=\u001b[39m np\u001b[38;5;241m.\u001b[39mdot(R\u001b[38;5;241m.\u001b[39mT, D[[p, q], :])\n\u001b[1;32m---> 38\u001b[0m D[:, [p, q]] \u001b[38;5;241m=\u001b[39m \u001b[43mnp\u001b[49m\u001b[38;5;241;43m.\u001b[39;49m\u001b[43mdot\u001b[49m\u001b[43m(\u001b[49m\u001b[43mD\u001b[49m\u001b[43m[\u001b[49m\u001b[43m:\u001b[49m\u001b[43m,\u001b[49m\u001b[43m \u001b[49m\u001b[43m[\u001b[49m\u001b[43mp\u001b[49m\u001b[43m,\u001b[49m\u001b[43m \u001b[49m\u001b[43mq\u001b[49m\u001b[43m]\u001b[49m\u001b[43m]\u001b[49m\u001b[43m,\u001b[49m\u001b[43m \u001b[49m\u001b[43mR\u001b[49m\u001b[43m)\u001b[49m\n\u001b[0;32m     39\u001b[0m V[:, [p, q]] \u001b[38;5;241m=\u001b[39m np\u001b[38;5;241m.\u001b[39mdot(V[:, [p, q]], R)\n\u001b[0;32m     41\u001b[0m \u001b[38;5;66;03m# Update row p and column q of the off-diagonal element of greatest magnitude in D:\u001b[39;00m\n",
            "File \u001b[1;32mc:\\Users\\22051\\AppData\\Local\\Programs\\Python\\Python313\\Lib\\site-packages\\numpy\\_core\\multiarray.py:761\u001b[0m, in \u001b[0;36mdot\u001b[1;34m(a, b, out)\u001b[0m\n\u001b[0;32m    692\u001b[0m \u001b[38;5;250m    \u001b[39m\u001b[38;5;124;03m\"\"\"\u001b[39;00m\n\u001b[0;32m    693\u001b[0m \u001b[38;5;124;03m    result_type(*arrays_and_dtypes)\u001b[39;00m\n\u001b[0;32m    694\u001b[0m \n\u001b[1;32m   (...)\u001b[0m\n\u001b[0;32m    756\u001b[0m \n\u001b[0;32m    757\u001b[0m \u001b[38;5;124;03m    \"\"\"\u001b[39;00m\n\u001b[0;32m    758\u001b[0m     \u001b[38;5;28;01mreturn\u001b[39;00m arrays_and_dtypes\n\u001b[1;32m--> 761\u001b[0m \u001b[38;5;129m@array_function_from_c_func_and_dispatcher\u001b[39m(_multiarray_umath\u001b[38;5;241m.\u001b[39mdot)\n\u001b[0;32m    762\u001b[0m \u001b[38;5;28;01mdef\u001b[39;00m\u001b[38;5;250m \u001b[39m\u001b[38;5;21mdot\u001b[39m(a, b, out\u001b[38;5;241m=\u001b[39m\u001b[38;5;28;01mNone\u001b[39;00m):\n\u001b[0;32m    763\u001b[0m \u001b[38;5;250m    \u001b[39m\u001b[38;5;124;03m\"\"\"\u001b[39;00m\n\u001b[0;32m    764\u001b[0m \u001b[38;5;124;03m    dot(a, b, out=None)\u001b[39;00m\n\u001b[0;32m    765\u001b[0m \n\u001b[1;32m   (...)\u001b[0m\n\u001b[0;32m    851\u001b[0m \n\u001b[0;32m    852\u001b[0m \u001b[38;5;124;03m    \"\"\"\u001b[39;00m\n\u001b[0;32m    853\u001b[0m     \u001b[38;5;28;01mreturn\u001b[39;00m (a, b, out)\n",
            "\u001b[1;31mKeyboardInterrupt\u001b[0m: "
          ]
        }
      ],
      "source": [
        "jm_results = []\n",
        "tjm_results = []\n",
        "for n, A in zip(N_values, matrices):\n",
        "    jm_results.append(jacobi_method(A))\n",
        "    tjm_results.append(tri_jacobi_method(A))"
      ]
    },
    {
      "cell_type": "code",
      "execution_count": 75,
      "metadata": {},
      "outputs": [
        {
          "name": "stdout",
          "output_type": "stream",
          "text": [
            "11 13\n",
            "53 45\n",
            "223 174\n",
            "922 483\n",
            "3472 1994\n",
            "12504 5350\n"
          ]
        }
      ],
      "source": [
        "for i, j in zip(jm_results, tjm_results):\n",
        "    print(i[2], j[2])"
      ]
    }
  ],
  "metadata": {
    "colab": {
      "provenance": []
    },
    "kernelspec": {
      "display_name": "Python 3",
      "name": "python3"
    },
    "language_info": {
      "codemirror_mode": {
        "name": "ipython",
        "version": 3
      },
      "file_extension": ".py",
      "mimetype": "text/x-python",
      "name": "python",
      "nbconvert_exporter": "python",
      "pygments_lexer": "ipython3",
      "version": "3.13.1"
    }
  },
  "nbformat": 4,
  "nbformat_minor": 0
}
