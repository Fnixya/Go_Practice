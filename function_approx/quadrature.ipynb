{
 "cells": [
  {
   "cell_type": "code",
   "execution_count": null,
   "id": "938737ca",
   "metadata": {},
   "outputs": [],
   "source": [
    "import numpy as np\n",
    "import matplotlib.pyplot as plt\n",
    "from scipy.special import legendre, roots_legendre\n",
    "from scipy.integrate import quad\n",
    "# import pandas as pd\n",
    "\n",
    "def lagrange(x, r, i):\n",
    "    prod = 1\n",
    "    for j in range(len(r)):\n",
    "        if j != i:\n",
    "            prod *= (x - r[j]) / (r[i] - r[j])\n",
    "    return prod\n",
    "\n",
    "def LegendreQuad(n):\n",
    "\n",
    "    #Step 1\n",
    "    r = np.sort(roots_legendre(n)[0])  # compute roots of Legendre polynomials and sort\n",
    "\n",
    "    #Step 2\n",
    "    c = np.zeros(n)\n",
    "    for i in range(n):\n",
    "        c[i], _ = quad(lambda x: lagrange(x, r, i), -1, 1, epsabs=1e-12)  # quadrature rules\n",
    "\n",
    "    return r,c\n"
   ]
  }
 ],
 "metadata": {
  "language_info": {
   "name": "python"
  }
 },
 "nbformat": 4,
 "nbformat_minor": 5
}
