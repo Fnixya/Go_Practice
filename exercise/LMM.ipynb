{
  "nbformat": 4,
  "nbformat_minor": 0,
  "metadata": {
    "colab": {
      "provenance": []
    },
    "kernelspec": {
      "name": "python3",
      "display_name": "Python 3"
    },
    "language_info": {
      "name": "python"
    }
  },
  "cells": [
    {
      "cell_type": "code",
      "execution_count": 51,
      "metadata": {
        "id": "qu1bfJZB6rSL"
      },
      "outputs": [],
      "source": [
        "import numpy as np\n",
        "import matplotlib.pyplot as plt\n",
        "\n",
        "def f(t, u):\n",
        "    return (u**2 + u) / t\n",
        "\n",
        "def ue(t):\n",
        "    return 2 * t / (1 - 2 * t)"
      ]
    },
    {
      "cell_type": "code",
      "source": [
        "# List of one-step methods: choose one to initialize LMMs\n",
        "\n",
        "def fe(f, tspan, y0, h):\n",
        "    t = np.arange(tspan[0], tspan[1] + h, h)\n",
        "    N = len(t)\n",
        "    y = np.zeros(N)\n",
        "    y[0] = y0\n",
        "\n",
        "    for i in range(N - 1):\n",
        "        y[i+1] = y[i] + h * f(t[i], y[i])\n",
        "\n",
        "    return t, y\n",
        "\n",
        "\n",
        "def rk2(f, tspan, y0, h):\n",
        "    t = np.arange(tspan[0], tspan[1] + h, h)\n",
        "    N = len(t)\n",
        "    y = np.zeros(N)\n",
        "    y[0] = y0\n",
        "\n",
        "    for i in range(N - 1):\n",
        "        K1 = f(t[i], y[i])\n",
        "        K2 = f(t[i] + 0.5 * h, y[i] + 0.5 * h * K1)\n",
        "        y[i+1] = y[i] + h * K2\n",
        "\n",
        "    return t, y\n",
        "\n",
        "\n",
        "def rk3(f, tspan, y0, h):\n",
        "    t = np.arange(tspan[0], tspan[1] + h, h)\n",
        "    N = len(t)\n",
        "    y = np.zeros(N)\n",
        "    y[0] = y0\n",
        "\n",
        "    for i in range(N - 1):\n",
        "        K1 = f(t[i], y[i])\n",
        "        K2 = f(t[i] + 0.5 * h, y[i] + 0.5 * h * K1)\n",
        "        K3 = f(t[i] + h, y[i] - h * K1 + 2 * h * K2)\n",
        "        y[i+1] = y[i] + (h / 6) * (K1 + 4 * K2 + K3)\n",
        "\n",
        "    return t, y\n",
        "\n",
        "\n",
        "def rk4(f, tspan, y0, h):\n",
        "    t = np.arange(tspan[0], tspan[1] + h, h)\n",
        "    N = len(t)\n",
        "    y = np.zeros(N)\n",
        "    y[0] = y0\n",
        "\n",
        "    for i in range(N - 1):\n",
        "        K1 = f(t[i], y[i])\n",
        "        K2 = f(t[i] + 0.5 * h, y[i] + 0.5 * h * K1)\n",
        "        K3 = f(t[i] + 0.5 * h, y[i] + 0.5 * h * K2)\n",
        "        K4 = f(t[i] + h, y[i] + h * K3)\n",
        "        y[i+1] = y[i] + h / 6 * (K1 + 2*K2 + 2*K3 + K4)\n",
        "\n",
        "    return t, y"
      ],
      "metadata": {
        "id": "epV-uC1XmlYd"
      },
      "execution_count": 52,
      "outputs": []
    },
    {
      "cell_type": "code",
      "source": [
        "def AB2(f, tspan, y0, h, method):\n",
        "    t = np.arange(tspan[0], tspan[1] + h, h)\n",
        "    N = len(t)\n",
        "    y = np.zeros(N)\n",
        "\n",
        "    # choose a one-step method to initialize AB2\n",
        "    _, aux = method(f, [t[0], t[1]], y0, h)\n",
        "    y[:2] = aux[:2]\n",
        "\n",
        "    for i in range(1, N - 1):\n",
        "        y[i+1] = y[i] + h/2 * (-f(t[i-1], y[i-1]) + 3*f(t[i], y[i]))\n",
        "\n",
        "    return t, y\n"
      ],
      "metadata": {
        "id": "loKIv55lmzAJ"
      },
      "execution_count": 53,
      "outputs": []
    },
    {
      "cell_type": "code",
      "source": [
        "def AB4(f, tspan, y0, h, method):\n",
        "    t = np.arange(tspan[0], tspan[1] + h, h)\n",
        "    N = len(t)\n",
        "    y = np.zeros(N)\n",
        "\n",
        "    # choose a one-step method to initialize AB$\n",
        "    _, aux = method(f, [t[0], t[3]], y0, h)\n",
        "    y[:4] = aux[:4]\n",
        "\n",
        "    for i in range(3, N - 1):\n",
        "        y[i+1] = y[i] + h/24 * (-9*f(t[i-3], y[i-3]) + 37*f(t[i-2], y[i-2]) - 59*f(t[i-1], y[i-1]) + 55*f(t[i], y[i]))\n",
        "\n",
        "    return t, y"
      ],
      "metadata": {
        "id": "xbPAcZGwnqoZ"
      },
      "execution_count": 54,
      "outputs": []
    },
    {
      "cell_type": "code",
      "source": [
        "def compute_errors():\n",
        "    t0, tf, u0 = 1, 5, -2\n",
        "    dtvec = np.array([1/5, 1/10, 1/20, 1/40, 1/80, 1/160, 1/320, 1/640])\n",
        "    err_AB2 = []\n",
        "    err_AB4 = []\n",
        "\n",
        "    for h in dtvec:\n",
        "        t, yAB2 = AB2(f, [t0, tf], u0, h, fe) # initialize FE\n",
        "        t, yAB4 = AB4(f, [t0, tf], u0, h, rk3)\n",
        "\n",
        "        err_AB2.append(np.linalg.norm(ue(t) - yAB2, np.inf))\n",
        "        err_AB4.append(np.linalg.norm(ue(t) - yAB4, np.inf))\n",
        "\n",
        "    err_AB2 = np.array(err_AB2)\n",
        "    err_AB4 = np.array(err_AB4)\n",
        "\n",
        "    order_AB2 = np.insert(np.log2(err_AB2[:-1] / err_AB2[1:]), 0, np.nan)\n",
        "    order_AB4 = np.insert(np.log2(err_AB4[:-1] / err_AB4[1:]), 0, np.nan)\n",
        "\n",
        "    return dtvec, err_AB2, order_AB2, err_AB4, order_AB4\n"
      ],
      "metadata": {
        "id": "O5J2gjETnw4L"
      },
      "execution_count": 55,
      "outputs": []
    },
    {
      "cell_type": "code",
      "source": [
        "dtvec, err_AB2, order_AB2, err_AB4, order_AB4 = compute_errors()\n",
        "\n",
        "plt.loglog(dtvec, err_AB2, 's-', label='AB2')\n",
        "plt.loglog(dtvec, err_AB4, 'v-', label='AB4')\n",
        "plt.legend()\n",
        "plt.xlabel('Step size (h)')\n",
        "plt.ylabel('Error')\n",
        "plt.title('Convergence of AB2 and AB4')\n",
        "plt.show()\n",
        "\n",
        "import pandas as pd\n",
        "T_AB2 = pd.DataFrame({'dt': dtvec, 'Error AB2': err_AB2, 'Order AB2': order_AB2})\n",
        "T_AB4 = pd.DataFrame({'dt': dtvec, 'Error AB4': err_AB4, 'Order AB4': order_AB4})\n",
        "print(T_AB2)\n",
        "print(T_AB4)\n"
      ],
      "metadata": {
        "colab": {
          "base_uri": "https://localhost:8080/",
          "height": 798
        },
        "id": "zXPxYjiNoBNR",
        "outputId": "21c36eb4-ed71-4a72-a636-22344f5f6b8d"
      },
      "execution_count": 56,
      "outputs": [
        {
          "output_type": "display_data",
          "data": {
            "text/plain": [
              "<Figure size 640x480 with 1 Axes>"
            ],
            "image/png": "[encoded data removed]"
          },
          "metadata": {}
        },
        {
          "output_type": "stream",
          "name": "stdout",
          "text": [
            "         dt  Error AB2  Order AB2\n",
            "0  0.200000   0.114286        NaN\n",
            "1  0.100000   0.033333   1.777608\n",
            "2  0.050000   0.009091   1.874469\n",
            "3  0.025000   0.002381   1.932886\n",
            "4  0.012500   0.000610   1.965235\n",
            "5  0.006250   0.000154   1.982298\n",
            "6  0.003125   0.000039   1.991067\n",
            "7  0.001563   0.000010   1.995513\n",
            "         dt     Error AB4  Order AB4\n",
            "0  0.200000  2.057121e-02        NaN\n",
            "1  0.100000  2.805368e-03   2.874365\n",
            "2  0.050000  2.740597e-04   3.355628\n",
            "3  0.025000  2.265782e-05   3.596409\n",
            "4  0.012500  1.652645e-06   3.777161\n",
            "5  0.006250  1.119043e-07   3.884439\n",
            "6  0.003125  7.286104e-09   3.940974\n",
            "7  0.001563  4.648912e-10   3.970183\n"
          ]
        }
      ]
    },
    {
      "cell_type": "code",
      "source": [],
      "metadata": {
        "id": "RxS_UBmRmXvy"
      },
      "execution_count": 56,
      "outputs": []
    }
  ]
}