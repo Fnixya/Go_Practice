{
  "nbformat": 4,
  "nbformat_minor": 0,
  "metadata": {
    "colab": {
      "provenance": []
    },
    "kernelspec": {
      "name": "python3",
      "display_name": "Python 3"
    },
    "language_info": {
      "name": "python"
    }
  },
  "cells": [
    {
      "cell_type": "code",
      "execution_count": 20,
      "metadata": {
        "id": "W7HcWpCiKZHz"
      },
      "outputs": [],
      "source": [
        "import numpy as np\n",
        "\n",
        "def sign_function(x):\n",
        "    if x >= 0:\n",
        "        return 1\n",
        "    else:\n",
        "        return -1\n",
        "\n",
        "def jacobi(A, epsilon):\n",
        "    \"\"\"\n",
        "    Jacobi method for finding eigenvalues and eigenvectors of a matrix A.\n",
        "\n",
        "    Args:\n",
        "    - A (numpy.ndarray): A square matrix (nxn).\n",
        "    - epsilon (float): The tolerance for convergence.\n",
        "\n",
        "    Returns:\n",
        "    - V (numpy.ndarray): Matrix of eigenvectors.\n",
        "    - D (numpy.ndarray): Diagonal matrix of eigenvalues.\n",
        "    - iter (int): Number of iterations.\n",
        "    \"\"\"\n",
        "    # Initialize V, D, and parameters:\n",
        "    D = np.array(A, dtype=np.float64, copy=True)\n",
        "    n = A.shape[0]\n",
        "    V = np.eye(n)\n",
        "\n",
        "    # Calculate row p and column q of the off-diagonal element of greatest magnitude in D:\n",
        "    matrix = np.tril(np.abs(D - np.diag(np.diag(D))),-1)\n",
        "    max_value_2d = np.max(matrix)  # Find the max value\n",
        "    max_index_2d = np.unravel_index(np.argmax(matrix), matrix.shape)\n",
        "    p, q = max_index_2d\n",
        "\n",
        "    iter = 1  # counter\n",
        "\n",
        "    while np.abs(D[p, q]) > epsilon*np.sqrt(np.sum(np.diag(D)**2)/n):  # tol. criteria\n",
        "        # rotation parameters\n",
        "        a = (D[q, q] - D[p, p]) / (2 * D[p, q])\n",
        "        t = sign_function(a) / (np.abs(a) + np.sqrt(a**2 + 1))\n",
        "        c = 1 / np.sqrt(1 + t**2)\n",
        "        s = c * t\n",
        "        R = np.array([[c, s], [-s, c]])\n",
        "\n",
        "        # Zero out Dpq and Dqp\n",
        "        D[[p, q], :] = np.dot(R.T, D[[p, q], :])\n",
        "        D[:, [p, q]] = np.dot(D[:, [p, q]], R)\n",
        "        V[:, [p, q]] = np.dot(V[:, [p, q]], R)\n",
        "\n",
        "        # Update row p and column q of the off-diagonal element of greatest magnitude in D:\n",
        "        matrix = np.tril(np.abs(D - np.diag(np.diag(D))),-1)\n",
        "        max_value_2d = np.max(matrix)  # Find the max value\n",
        "        max_index_2d = np.unravel_index(np.argmax(matrix), matrix.shape)\n",
        "        p, q = max_index_2d\n",
        "\n",
        "        iter += 1  # counter\n",
        "\n",
        "    return V, D, iter"
      ]
    },
    {
      "cell_type": "code",
      "source": [
        "# Test matrix A\n",
        "A = np.array([[2, 1, 3],[1, 2, 5],[3, 5, 2]])\n",
        "\n",
        "# Set the tolerance epsilon\n",
        "epsilon = 1e-6\n",
        "\n",
        "# Call the Jacobi method\n",
        "V, D, iter = jacobi(A, epsilon)\n",
        "\n",
        "# Output the results\n",
        "print(\"Eigenvectors (V):\")\n",
        "print(V)\n",
        "print(\"\\nEigenvalues (D):\")\n",
        "print(np.diag(D))  # Eigenvalues are the diagonal elements of D\n",
        "print(\"\\nNumber of iterations:\", iter)\n",
        "print('-'*40)\n",
        "eigenvalues, eigenvectors = np.linalg.eig(A)\n",
        "print(\"Eigenvectors (V) using numpy:\")\n",
        "print(eigenvectors)\n",
        "print(\"\\nEigenvalues (D) using numpy:\")\n",
        "print(eigenvalues)"
      ],
      "metadata": {
        "colab": {
          "base_uri": "https://localhost:8080/"
        },
        "id": "24bLAJqJKgoc",
        "outputId": "9451c5a0-9092-4679-b60c-477c6692a0d5"
      },
      "execution_count": 21,
      "outputs": [
        {
          "output_type": "stream",
          "name": "stdout",
          "text": [
            "Eigenvectors (V):\n",
            "[[ 0.86089001  0.41847141 -0.28939605]\n",
            " [-0.50177052  0.60413273 -0.61907187]\n",
            " [-0.08423025  0.6781632   0.73006845]]\n",
            "\n",
            "Eigenvalues (D):\n",
            "[ 1.12362622  8.30538185 -3.42900808]\n",
            "\n",
            "Number of iterations: 8\n",
            "----------------------------------------\n",
            "Eigenvectors (V) using numpy:\n",
            "[[-0.41847145 -0.86088999 -0.28939605]\n",
            " [-0.60413271  0.50177055 -0.61907187]\n",
            " [-0.67816319  0.08423029  0.73006845]]\n",
            "\n",
            "Eigenvalues (D) using numpy:\n",
            "[ 8.30538185  1.12362622 -3.42900808]\n"
          ]
        }
      ]
    }
  ]
}