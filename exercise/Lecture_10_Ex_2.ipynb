{
  "nbformat": 4,
  "nbformat_minor": 0,
  "metadata": {
    "colab": {
      "provenance": []
    },
    "kernelspec": {
      "name": "python3",
      "display_name": "Python 3"
    },
    "language_info": {
      "name": "python"
    }
  },
  "cells": [
    {
      "cell_type": "markdown",
      "source": [
        "# Exercise 2a"
      ],
      "metadata": {
        "id": "wVemQ2OLutUr"
      }
    },
    {
      "cell_type": "code",
      "execution_count": null,
      "metadata": {
        "colab": {
          "base_uri": "https://localhost:8080/"
        },
        "id": "wA-mb1121mWw",
        "outputId": "d7d4b681-fe16-41dc-b3a5-60a4ef1acac2"
      },
      "outputs": [
        {
          "output_type": "stream",
          "name": "stdout",
          "text": [
            "----------------------------\n",
            "For n = 2:\n",
            "     Roots  Coefficients\n",
            "0 -0.57735           1.0\n",
            "1  0.57735           1.0\n",
            "----------------------------\n",
            "For n = 3:\n",
            "      Roots  Coefficients\n",
            "0 -0.774597      0.555556\n",
            "1  0.000000      0.888889\n",
            "2  0.774597      0.555556\n",
            "----------------------------\n",
            "For n = 4:\n",
            "      Roots  Coefficients\n",
            "0 -0.861136      0.347855\n",
            "1 -0.339981      0.652145\n",
            "2  0.339981      0.652145\n",
            "3  0.861136      0.347855\n",
            "----------------------------\n",
            "For n = 5:\n",
            "      Roots  Coefficients\n",
            "0 -0.906180      0.236927\n",
            "1 -0.538469      0.478629\n",
            "2  0.000000      0.568889\n",
            "3  0.538469      0.478629\n",
            "4  0.906180      0.236927\n",
            "----------------------------\n",
            "For n = 6:\n",
            "      Roots  Coefficients\n",
            "0 -0.932470      0.171324\n",
            "1 -0.661209      0.360762\n",
            "2 -0.238619      0.467914\n",
            "3  0.238619      0.467914\n",
            "4  0.661209      0.360762\n",
            "5  0.932470      0.171324\n",
            "----------------------------\n",
            "For n = 7:\n",
            "      Roots  Coefficients\n",
            "0 -0.949108      0.129485\n",
            "1 -0.741531      0.279705\n",
            "2 -0.405845      0.381830\n",
            "3  0.000000      0.417959\n",
            "4  0.405845      0.381830\n",
            "5  0.741531      0.279705\n",
            "6  0.949108      0.129485\n",
            "----------------------------\n",
            "For n = 8:\n",
            "      Roots  Coefficients\n",
            "0 -0.960290      0.101229\n",
            "1 -0.796666      0.222381\n",
            "2 -0.525532      0.313707\n",
            "3 -0.183435      0.362684\n",
            "4  0.183435      0.362684\n",
            "5  0.525532      0.313707\n",
            "6  0.796666      0.222381\n",
            "7  0.960290      0.101229\n",
            "----------------------------\n",
            "For n = 9:\n",
            "      Roots  Coefficients\n",
            "0 -0.968160      0.081274\n",
            "1 -0.836031      0.180648\n",
            "2 -0.613371      0.260611\n",
            "3 -0.324253      0.312347\n",
            "4  0.000000      0.330239\n",
            "5  0.324253      0.312347\n",
            "6  0.613371      0.260611\n",
            "7  0.836031      0.180648\n",
            "8  0.968160      0.081274\n",
            "----------------------------\n",
            "For n = 10:\n",
            "      Roots  Coefficients\n",
            "0 -0.973907      0.066671\n",
            "1 -0.865063      0.149451\n",
            "2 -0.679410      0.219086\n",
            "3 -0.433395      0.269267\n",
            "4 -0.148874      0.295524\n",
            "5  0.148874      0.295524\n",
            "6  0.433395      0.269267\n",
            "7  0.679410      0.219086\n",
            "8  0.865063      0.149451\n",
            "9  0.973907      0.066671\n"
          ]
        }
      ],
      "source": [
        "import numpy as np\n",
        "from scipy.special import roots_legendre\n",
        "from scipy.integrate import quad\n",
        "import pandas as pd\n",
        "\n",
        "def lagrange(x, r, i):\n",
        "    prod = 1\n",
        "    for j in range(len(r)):\n",
        "        if j != i:\n",
        "            prod *= (x - r[j]) / (r[i] - r[j])\n",
        "    return prod\n",
        "\n",
        "def LegendreQuad(n):\n",
        "\n",
        "    #Step 1\n",
        "    r = np.sort(roots_legendre(n)[0])  # compute roots of Legendre polynomials and sort\n",
        "\n",
        "    #Step 2\n",
        "    c = np.zeros(n)\n",
        "    for i in range(n):\n",
        "        c[i], _ = quad(lambda x: lagrange(x, r, i), -1, 1, epsabs=1e-12)  # quadrature rules\n",
        "\n",
        "    return r,c\n",
        "\n",
        "\n",
        "for k in range(2, 11):\n",
        "    r,c = LegendreQuad(k)\n",
        "    print('-'*28)\n",
        "    print(f'For n = {k}:')\n",
        "    results = pd.DataFrame({'Roots': r, 'Coefficients': c.flatten()})\n",
        "    print(results)"
      ]
    },
    {
      "cell_type": "markdown",
      "source": [
        "# Exercise 2b"
      ],
      "metadata": {
        "id": "1KhcqUFhuwkb"
      }
    },
    {
      "cell_type": "code",
      "source": [
        "import matplotlib.pyplot as plt\n",
        "\n",
        "# inputs\n",
        "a, b = 0, 1\n",
        "nvec = np.arange(2, 41)\n",
        "f = lambda x: 4 / (1 + x ** 2)\n",
        "t = lambda x: 0.5 * (b - a) * x + 0.5 * (b + a)\n",
        "\n",
        "# algorithm\n",
        "error = []\n",
        "for n in nvec:\n",
        "    r,c = LegendreQuad(n)\n",
        "    xr = t(r)  # transform roots from [-1,1] to [a,b] interval\n",
        "    I = 0.5*(b - a)*np.sum(c*f(xr))  # quadrature rule over [a,b]\n",
        "    error.append(np.abs(I - np.pi))  # error\n",
        "\n",
        "# display\n",
        "plt.figure()\n",
        "plt.semilogy(nvec, error, 'o-')\n",
        "plt.xlabel('n')\n",
        "plt.ylabel('error')\n",
        "plt.show()\n"
      ],
      "metadata": {
        "id": "-dgB3e_V2FBd",
        "outputId": "204579d4-0264-417f-b33b-0d74d7da2fd4",
        "colab": {
          "base_uri": "https://localhost:8080/",
          "height": 449
        }
      },
      "execution_count": null,
      "outputs": [
        {
          "output_type": "display_data",
          "data": {
            "text/plain": [
              "<Figure size 640x480 with 1 Axes>"
            ],
            "image/png": "[encoded data removed]"
          },
          "metadata": {}
        }
      ]
    },
    {
      "cell_type": "markdown",
      "source": [
        "# Exercise 2c"
      ],
      "metadata": {
        "id": "oHWx8X_Wu4PM"
      }
    },
    {
      "cell_type": "code",
      "source": [
        "# inputs\n",
        "\n",
        "n = 3 # degree\n",
        "npart = 4;  # partitions for composite quadrature\n",
        "\n",
        "a, b = 0, 1\n",
        "f = lambda x: 4 / (1 + x ** 2)\n",
        "t = lambda x,a,b: 0.5 * (b - a) * x + 0.5 * (b + a)\n",
        "\n",
        "# algorithm\n",
        "r,c = LegendreQuad(n)\n",
        "\n",
        "h = (b-a)/npart # interval\n",
        "x0 = a\n",
        "xf = x0+h;\n",
        "\n",
        "I = 0  # integral\n",
        "for j in range(npart): #loop over number of partitions\n",
        "    xr = t(r,x0,xf);  #transform roots from [-1,1] to [xr,xr+1] interval\n",
        "    I = I + 0.5*(xf-x0)*sum(c*f(xr)) #quadrature rule over [xr,xr+1] (update I)\n",
        "    x0 = xf # move to next partition\n",
        "    xf = xf+h\n",
        "\n",
        "error = I - np.pi\n",
        "\n",
        "# Display the error\n",
        "print(\"The error is\", error)"
      ],
      "metadata": {
        "colab": {
          "base_uri": "https://localhost:8080/"
        },
        "id": "aSbp1R3yu5R5",
        "outputId": "3d37ede8-5137-434e-eea8-2b4f5bb32bea"
      },
      "execution_count": null,
      "outputs": [
        {
          "output_type": "stream",
          "name": "stdout",
          "text": [
            "The error is -7.249929101504904e-09\n"
          ]
        }
      ]
    }
  ]
}