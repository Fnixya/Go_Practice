{
 "cells": [
  {
   "cell_type": "markdown",
   "metadata": {},
   "source": [
    "# Optional Assignment 2\n",
    "A general expression for the local truncation error for any $r$-step linear multistep method is: \n",
    "$$\n",
    "\\begin{align}\n",
    "\\tau(t_{n+r}) & = \\frac 1k \\bigg[\\sum_{j=0}^r \\alpha_j u(t_{n+j}) + k\\sum_{j=0}^r \\beta_j u'(t_{n+j})\\bigg] \\\\ \n",
    "& = \\frac1k\\bigg[\\sum_{j=0}^r \\alpha_{j} \\bigg] + \\frac1k\\bigg[\\sum_{j=0}^r (j\\alpha_{j} - \\beta_{j}) \\bigg] + \\cdots + k^{q-1} \\bigg[\\sum_{j=0}^r \\Big(\\frac{1}{q!} j^q \\alpha_j - \\frac{1}{(q-1)!} j^{q-1}\\beta_j \\Big)\\bigg] u^{(q)} (t_n) + \\cdots\n",
    "\\end{align}\n",
    "$$ \n",
    "\n",
    "<!-- Let's name each coefficient $\\{C_r\\}_{r=0}^\\infty = \\sum_{j=0}^r \\Big(\\frac{1}{q!} j^q \\alpha_j - \\frac{1}{(q-1)!} j^{q-1}\\beta_j \\Big)$ and $C(\\alpha_j) = \\frac{1}{q!} j^q \\alpha_j$  and $C(\\beta_j) = \\frac{1}{(q-1)!} j^{q-1}\\beta_j$ -->"
   ]
  },
  {
   "cell_type": "markdown",
   "metadata": {},
   "source": [
    "To achieve the maximum efficiency possible, we want to banish the coefficients <!-- $C_0, \\ldots, C_r$ --> up to order $r$. We can translate this problem into this system of linear equations\n",
    "$$\\begin{bmatrix}\n",
    "1 & 0 & 1 & 0 & \\cdots & 1 & 0 \\\\\n",
    "0 & -1 & 1 & -1 & \\cdots & r & -1 \\\\\n",
    "0 & 0 & \\frac12 & -1 & \\cdots & \\frac12 r^2 & -r \\\\\n",
    "\\vdots &\\vdots&\\vdots&\\vdots&\\ddots&\\vdots&\\vdots \\\\\n",
    "0 & 0 & \\frac{1}{r!} & -\\frac{1}{(r-1)!} & \\cdots & \\frac{1}{r!} r^{r} & -\\frac{1}{(r-1)!} r^{r-1}  \\\\\n",
    "\\end{bmatrix}\n",
    "\\begin{bmatrix}\n",
    "\\alpha_0 \\\\ \\beta_0 \\\\ \\alpha_1 \\\\ \\beta_1 \\\\ \\vdots \\\\ \\alpha_r \\\\ \\beta_r \n",
    "\\end{bmatrix}\n",
    "= \n",
    "\\begin{bmatrix}\n",
    "0 \\\\ 0 \\\\ 0 \\\\ 0 \\\\ \\vdots \\\\ 0 \\\\ 0\n",
    "\\end{bmatrix}\n",
    "$$\n",
    "which has infinite solutions at the moment."
   ]
  },
  {
   "cell_type": "markdown",
   "metadata": {},
   "source": [
    "## Adams-Bashforth\n",
    "For Adams-Bashforth method, we choose $\\alpha_r = 1$, $\\alpha_{r-1} = -1$, $\\alpha_j = 0$ for $j<r-1$ and $\\beta_{r} = 0$, then we define a system of linear equations such that \n",
    "$$\\begin{bmatrix}\n",
    "0 & 0 & \\cdots & 1 & 0 \\\\\n",
    "-1 & -1 & \\cdots & -1 & -1 \\\\\n",
    "0 & -1 & \\cdots & -(r-2) & -(r-1) \\\\\n",
    "\\vdots&\\vdots&\\ddots&\\vdots&\\vdots \\\\\n",
    "0 & -\\frac{1}{(r-1)!} & \\cdots & -\\frac{1}{(r-1)!} (r-2)^{r-1} & -\\frac{1}{(r-1)!} (r-1)^{r-1}  \\\\\n",
    "\\end{bmatrix}\n",
    "\\begin{bmatrix}\n",
    "\\beta_0 \\\\ \\beta_1 \\\\ \\vdots \\\\ \\beta_{r-2}  \\\\ \\beta_{r-1} \n",
    "\\end{bmatrix}\n",
    "= \n",
    "\\begin{bmatrix}\n",
    "0 \\\\ -1 \\\\ \\frac12(r-1)^2-\\frac12r^2\\\\ \\vdots \\\\ \\frac{1}{r!}(r-1)^{r}-\\frac{1}{r!}r^{r} \n",
    "\\end{bmatrix}\n",
    "$$"
   ]
  },
  {
   "cell_type": "code",
   "execution_count": 1,
   "metadata": {},
   "outputs": [],
   "source": [
    "# Import Libraries\n",
    "import numpy as np\n",
    "from scipy.special import factorial\n",
    "\n",
    "def c_alpha(q: int, j: int) -> float:\n",
    "    return j**q/factorial(q) if q!=0 else 1\n",
    "\n",
    "def c_beta(q: int, j: int) -> float:\n",
    "    return -(j)**(q-1)/factorial(q-1) if q!=0 else 0"
   ]
  },
  {
   "cell_type": "code",
   "execution_count": null,
   "metadata": {},
   "outputs": [],
   "source": [
    "def ab_eq(order: int, q: int) -> list[float]:\n",
    "    if order < 1:\n",
    "        raise ValueError(\"r must be positive\")\n",
    "\n",
    "    Ai = [0] * order\n",
    "    for j in range(order):\n",
    "        Ai[j] = c_beta(q, j)\n",
    " \n",
    "    bi = c_alpha(q, order-1) - c_alpha(q, order)\n",
    "    return Ai, bi\n",
    "\n",
    "def adams_bashforth(order: int):\n",
    "    if order < 1:\n",
    "        raise ValueError(\"r must be positive\")\n",
    "\n",
    "    A, b = [], []\n",
    "    for i in range(1, order+1):\n",
    "        Ai, bi = ab_eq(order, i)\n",
    "        A.append(Ai)\n",
    "        b.append(bi)\n",
    "\n",
    "    A = np.array(A)\n",
    "    b = np.array(b)\n",
    "    x = np.linalg.solve(A, b)\n",
    "\n",
    "    return x"
   ]
  },
  {
   "cell_type": "markdown",
   "metadata": {},
   "source": [
    "The coefficients of Adams-Bashforth up to order 5 are:"
   ]
  },
  {
   "cell_type": "code",
   "execution_count": 3,
   "metadata": {},
   "outputs": [
    {
     "name": "stdout",
     "output_type": "stream",
     "text": [
      "ADAMS-BASHFORTH COEFFICIENTS\n",
      "r=1: (array([[-1.]]), array([-1.]), array([1.]))\n",
      "r=2: (array([[-1., -1.],\n",
      "       [ 0., -1.]]), array([-1. , -1.5]), array([-0.5,  1.5]))\n",
      "r=3: (array([[-1. , -1. , -1. ],\n",
      "       [ 0. , -1. , -2. ],\n",
      "       [ 0. , -0.5, -2. ]]), array([-1.        , -2.5       , -3.16666667]), array([ 0.41666667, -1.33333333,  1.91666667]))\n",
      "r=4: (array([[-1.        , -1.        , -1.        , -1.        ],\n",
      "       [ 0.        , -1.        , -2.        , -3.        ],\n",
      "       [ 0.        , -0.5       , -2.        , -4.5       ],\n",
      "       [ 0.        , -0.16666667, -1.33333333, -4.5       ]]), array([-1.        , -3.5       , -6.16666667, -7.29166667]), array([-0.375     ,  1.54166667, -2.45833333,  2.29166667]))\n"
     ]
    }
   ],
   "source": [
    "print(f'ADAMS-BASHFORTH COEFFICIENTS')\n",
    "for i in range(1, 5):\n",
    "    print(f'r={i}: {adams_bashforth(i)}')"
   ]
  },
  {
   "cell_type": "markdown",
   "metadata": {},
   "source": [
    "We can verify that the coefficients are indeed correct."
   ]
  },
  {
   "cell_type": "markdown",
   "metadata": {},
   "source": [
    "## Adams Moulton\n",
    "For Adams-Bashforth method, we choose $\\alpha_r = 1$, $\\alpha_{r-1} = -1$ and $\\alpha_j = 0$ for $j<r-1$. We need to integrate one more coefficient into the SLE."
   ]
  },
  {
   "cell_type": "code",
   "execution_count": null,
   "metadata": {},
   "outputs": [],
   "source": [
    "def am_eq(order: int, q: int) -> list[float]:\n",
    "    if order < 1:\n",
    "        raise ValueError(\"r must be positive\")\n",
    "\n",
    "    Ai = [0] * (order+1)\n",
    "    for j in range(order+1):\n",
    "        Ai[j] = c_beta(q, j)\n",
    " \n",
    "    bi = c_alpha(q, order-1) - c_alpha(q, order)\n",
    "    return Ai, bi\n",
    "\n",
    "def adams_moulton(order: int):\n",
    "    if order < 1:\n",
    "        raise ValueError(\"r must be positive\")\n",
    "\n",
    "    A, b = [], []\n",
    "    for i in range(1, order+2):\n",
    "        Ai, bi = am_eq(order, i)\n",
    "        A.append(Ai)\n",
    "        b.append(bi)\n",
    "\n",
    "    A = np.array(A)\n",
    "    b = np.array(b)\n",
    "    x = np.linalg.solve(A, b)\n",
    "\n",
    "    return x "
   ]
  },
  {
   "cell_type": "code",
   "execution_count": 11,
   "metadata": {},
   "outputs": [
    {
     "name": "stdout",
     "output_type": "stream",
     "text": [
      "ADAMS-MOULTON COEFFICIENTS\n",
      "r=1: [0.5 0.5]\n",
      "r=2: [-0.08333333  0.66666667  0.41666667]\n",
      "r=3: [ 0.04166667 -0.20833333  0.79166667  0.375     ]\n",
      "r=4: [-0.02638889  0.14722222 -0.36666667  0.89722222  0.34861111]\n"
     ]
    }
   ],
   "source": [
    "print(f'ADAMS-MOULTON COEFFICIENTS')\n",
    "for i in range(1, 5):\n",
    "    print(f'r={i}: {adams_moulton(i)}')"
   ]
  },
  {
   "cell_type": "markdown",
   "metadata": {},
   "source": [
    "## Backward Differentation\n",
    "For Backward Differentation method, we choose $\\beta_j = 0$ for $j<r$ so that \n",
    "$$\\sum_{j=0}^r \\alpha_j U_{n+j} = k\\beta_r f(U_{n+r}, t_{n+r})$$\n",
    "therefore\n",
    "\n",
    "the output is $$[\\alpha_0, \\ldots, \\alpha_r, \\beta_r]$$"
   ]
  },
  {
   "cell_type": "code",
   "execution_count": null,
   "metadata": {},
   "outputs": [],
   "source": [
    "def bd_eq(order: int, q: int) -> list[float]:\n",
    "    if order < 1:\n",
    "        raise ValueError(\"Order must be positive\")\n",
    "\n",
    "    Ai = [0] * (order+1)\n",
    "    for j in range(order+1):\n",
    "        Ai[j] = c_alpha(q, j)\n",
    "\n",
    "    return Ai, -c_beta(q, order)\n",
    "\n",
    "def backward_differentation(order: int):\n",
    "    if order < 1:\n",
    "        raise ValueError(\"Order must be positive\")\n",
    "\n",
    "    A, b = [], []\n",
    "    for i in range(order+1):\n",
    "        Ai, bi = bd_eq(order, i)\n",
    "        A.append(Ai)\n",
    "        b.append(bi)\n",
    "\n",
    "    A = np.array(A)\n",
    "    b = np.array(b)\n",
    "    x = np.linalg.solve(A, b)\n",
    "\n",
    "    return x"
   ]
  },
  {
   "cell_type": "code",
   "execution_count": 32,
   "metadata": {},
   "outputs": [
    {
     "name": "stdout",
     "output_type": "stream",
     "text": [
      "BACKWARD DIFFERENTIATION COEFFICIENTS\n",
      "r=1: [-1.  1.]\n",
      "r=2: [ 0.5 -2.   1.5]\n",
      "r=3: [-0.33333333  1.5        -3.          1.83333333]\n",
      "r=4: [ 0.25       -1.33333333  3.         -4.          2.08333333]\n"
     ]
    }
   ],
   "source": [
    "print(f'BACKWARD DIFFERENTIATION COEFFICIENTS')\n",
    "for i in range(1, 5):\n",
    "    print(f'r={i}: {backward_differentation(i)}')"
   ]
  }
 ],
 "metadata": {
  "kernelspec": {
   "display_name": "Python 3",
   "language": "python",
   "name": "python3"
  },
  "language_info": {
   "codemirror_mode": {
    "name": "ipython",
    "version": 3
   },
   "file_extension": ".py",
   "mimetype": "text/x-python",
   "name": "python",
   "nbconvert_exporter": "python",
   "pygments_lexer": "ipython3",
   "version": "3.13.0"
  }
 },
 "nbformat": 4,
 "nbformat_minor": 2
}
