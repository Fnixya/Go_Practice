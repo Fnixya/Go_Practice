{
 "cells": [
  {
   "cell_type": "markdown",
   "metadata": {},
   "source": [
    "$$\n",
    "\\begin{align}\n",
    "\\tau(t_{n+r}) & = \\frac 1k \\bigg[\\sum_{j=0}^r \\alpha_j u(t_{n+j}) + k\\sum_{j=0}^r \\beta_j u'(t_{n+j})\\bigg] \\\\ \n",
    "& = \\cdots + k^{q-1} \\bigg[\\sum_{j=0}^r \\Big(\\frac{1}{q!} j^q \\alpha_j - \\frac{1}{(q-1)!} j^{q-1}\\beta_j \\Big)\\bigg] u^{(q)} (t_n) + \\cdots\n",
    "\\end{align}\n",
    "$$ \n",
    "\n",
    "Let's name each coefficient $\\{C_r\\}_{r=0}^\\infty = \\sum_{j=0}^r \\Big(\\frac{1}{q!} j^q \\alpha_j - \\frac{1}{(q-1)!} j^{q-1}\\beta_j \\Big)$"
   ]
  },
  {
   "cell_type": "markdown",
   "metadata": {},
   "source": [
    "To achieve the maximum efficiency possible, we want to banish the coefficients. We need to find the solution to\n",
    "$$\\begin{bmatrix}\n",
    "1 & 0 & 1 & 0 & \\cdots & 1 & 0 \\\\\n",
    "0 & -1 & 1 & -1 & \\cdots & r & 0 \\\\\n",
    "0 & -1 & 1 & -1 & \\cdots & r & 0 \\\\\n",
    "\\vdots &\\vdots&\\vdots&\\vdots&\\ddots&\\vdots&\\vdots \\\\\n",
    "1 & 0 & 1 & 0 & \\cdots & r & 0 \\\\\n",
    "\\end{bmatrix}\n",
    "\\begin{bmatrix}\n",
    "\\alpha_0 \\\\ \\beta_0 \\\\ \\alpha_1 \\\\ \\beta_1 \\\\ \\vdots \\\\ \\alpha_r \\\\ \\beta_r \n",
    "\\end{bmatrix}\n",
    "= \n",
    "\\begin{bmatrix}\n",
    "0 \\\\ 0 \\\\ 0 \\\\ 0 \\\\ \\vdots \\\\ 0 \\\\ 0\n",
    "\\end{bmatrix}\n",
    "$$\n"
   ]
  },
  {
   "cell_type": "code",
   "execution_count": 31,
   "metadata": {},
   "outputs": [],
   "source": [
    "import numpy as np"
   ]
  },
  {
   "cell_type": "code",
   "execution_count": 32,
   "metadata": {},
   "outputs": [],
   "source": [
    "def factorial(n: int) -> float:\n",
    "    if n <= 1:\n",
    "        return 1\n",
    "    return n * factorial(n - 1)\n",
    "\n",
    "def alpha(q: int, j: int) -> float:\n",
    "    return j**q/factorial(q) if q!=0 else 1\n",
    "\n",
    "def beta(q: int, j: int) -> float:\n",
    "    return -(j)**(q-1)/factorial(q-1) if q!=0 else 0\n",
    "\n",
    "\n",
    "def coefficients(r: int, q: int) -> list[float]:\n",
    "    \"\"\"\n",
    "        r: step number\n",
    "        q: order of the derivative\n",
    "    \"\"\"\n",
    "    if r < 1:\n",
    "        raise ValueError(\"n must be non-negative\")\n",
    "\n",
    "    c = [0] * (2*(r+1))\n",
    "\n",
    "    # Alphas and betas\n",
    "    for j in range(r+1):\n",
    "        c[2*j] = alpha(q, j)\n",
    "        c[2*j+1] = beta(q, j)\n",
    "\n",
    "    return c"
   ]
  },
  {
   "cell_type": "markdown",
   "metadata": {},
   "source": [
    "## Adams-Bashforth\n",
    "For Adams-Bashforth method, we choose $\\alpha_r = 1$, $\\alpha_{r-1} = -1$, $\\alpha_j = 0$ for $j<r-1$ and $\\beta_{r} = 0$, then we define a system of linear equations such that \n",
    "$$\\begin{bmatrix}\n",
    "1 & 0 & 1 & 0 & \\cdots & 1 \\\\\n",
    "0 & -1 & 1 & -1 & \\cdots & r \\\\\n",
    "0 & -1 & 1 & -1 & \\cdots & r \\\\\n",
    "\\vdots &\\vdots&\\vdots&\\vdots&\\ddots&\\vdots \\\\\n",
    "1 & 0 & 1 & 0 & \\cdots & r \\\\\n",
    "\\end{bmatrix}\n",
    "\\begin{bmatrix}\n",
    "\\alpha_0 \\\\ \\beta_0 \\\\ \\alpha_1 \\\\ \\beta_1 \\\\ \\vdots \\\\ \\alpha_r \n",
    "\\end{bmatrix}\n",
    "= \n",
    "\\begin{bmatrix}\n",
    "0 \\\\ 0 \\\\ 0 \\\\ 0 \\\\ \\vdots \\\\ 0 \\\\ 0\n",
    "\\end{bmatrix}\n",
    "$$"
   ]
  },
  {
   "cell_type": "code",
   "execution_count": 33,
   "metadata": {},
   "outputs": [],
   "source": [
    "\n",
    "def ab_eq(order: int, q: int) -> list[float]:\n",
    "    if order < 1:\n",
    "        raise ValueError(\"r must be positive\")\n",
    "\n",
    "    Ai = [0] * order\n",
    "    for j in range(order):\n",
    "        Ai[j] = beta(q, j)\n",
    " \n",
    "    bi = alpha(q, order-1) - alpha(q, order)\n",
    "    return Ai, bi\n",
    "\n",
    "def adams_bashforth(order: int):\n",
    "    if order < 1:\n",
    "        raise ValueError(\"r must be positive\")\n",
    "\n",
    "    A, b = [], []\n",
    "    for i in range(1, order+1):\n",
    "        Ai, bi = ab_eq(order, i)\n",
    "        A.append(Ai)\n",
    "        b.append(bi)\n",
    "\n",
    "    A = np.array(A)\n",
    "    b = np.array(b)\n",
    "    x = np.linalg.solve(A, b)\n",
    "\n",
    "    return x"
   ]
  },
  {
   "cell_type": "markdown",
   "metadata": {},
   "source": []
  },
  {
   "cell_type": "code",
   "execution_count": 34,
   "metadata": {},
   "outputs": [
    {
     "name": "stdout",
     "output_type": "stream",
     "text": [
      "ADAMS-BASHFORTH COEFFICIENTS\n",
      "r=1: [1.]\n",
      "r=2: [-0.5  1.5]\n",
      "r=3: [ 0.41666667 -1.33333333  1.91666667]\n",
      "r=4: [-0.375       1.54166667 -2.45833333  2.29166667]\n",
      "r=4: [ 0.34861111 -1.76944444  3.63333333 -3.85277778  2.64027778]\n"
     ]
    }
   ],
   "source": [
    "print(f'ADAMS-BASHFORTH COEFFICIENTS')\n",
    "print(f'r=1: {adams_bashforth(1)}')\n",
    "print(f'r=2: {adams_bashforth(2)}')\n",
    "print(f'r=3: {adams_bashforth(3)}')\n",
    "print(f'r=4: {adams_bashforth(4)}')\n",
    "print(f'r=4: {adams_bashforth(5)}')"
   ]
  },
  {
   "cell_type": "markdown",
   "metadata": {},
   "source": [
    "We can verify that the coefficients are indeed correct."
   ]
  },
  {
   "cell_type": "markdown",
   "metadata": {},
   "source": [
    "## Adams Moulton\n",
    "For Adams-Bashforth method, we choose $\\alpha_r = 1$, $\\alpha_{r-1} = -1$ and $\\alpha_j = 0$ for $j<r-1$. We need to integrate one more coefficient into the SLE."
   ]
  },
  {
   "cell_type": "code",
   "execution_count": null,
   "metadata": {},
   "outputs": [],
   "source": [
    "def am_eq(order: int, q: int) -> list[float]:\n",
    "    if order < 1:\n",
    "        raise ValueError(\"r must be positive\")\n",
    "\n",
    "    Ai = [0] * (order+1)\n",
    "    for j in range(order+1):\n",
    "        Ai[j] = beta(q, j)\n",
    " \n",
    "    bi = alpha(q, order-1) - alpha(q, order)\n",
    "    return Ai, bi\n",
    "\n",
    "def adams_moulton(order: int):\n",
    "    if order < 1:\n",
    "        raise ValueError(\"r must be positive\")\n",
    "\n",
    "    A, b = [], []\n",
    "    for i in range(1, order+2):\n",
    "        Ai, bi = am_eq(order, i)\n",
    "        A.append(Ai)\n",
    "        b.append(bi)\n",
    "\n",
    "    A = np.array(A)\n",
    "    b = np.array(b)\n",
    "    x = np.linalg.solve(A, b)\n",
    "\n",
    "    return x "
   ]
  },
  {
   "cell_type": "code",
   "execution_count": 36,
   "metadata": {},
   "outputs": [
    {
     "name": "stdout",
     "output_type": "stream",
     "text": [
      "ADAMS-MOULTON COEFFICIENTS\n",
      "r=1: (array([[-1., -1.],\n",
      "       [ 0., -1.]]), array([-1. , -0.5]), array([0.5, 0.5]))\n",
      "r=2: (array([[-1. , -1. , -1. ],\n",
      "       [ 0. , -1. , -2. ],\n",
      "       [ 0. , -0.5, -2. ]]), array([-1.        , -1.5       , -1.16666667]), array([-0.08333333,  0.66666667,  0.41666667]))\n",
      "r=3: (array([[-1.        , -1.        , -1.        , -1.        ],\n",
      "       [ 0.        , -1.        , -2.        , -3.        ],\n",
      "       [ 0.        , -0.5       , -2.        , -4.5       ],\n",
      "       [ 0.        , -0.16666667, -1.33333333, -4.5       ]]), array([-1.        , -2.5       , -3.16666667, -2.70833333]), array([ 0.04166667, -0.20833333,  0.79166667,  0.375     ]))\n",
      "r=4: (array([[ -1.        ,  -1.        ,  -1.        ,  -1.        ,\n",
      "         -1.        ],\n",
      "       [  0.        ,  -1.        ,  -2.        ,  -3.        ,\n",
      "         -4.        ],\n",
      "       [  0.        ,  -0.5       ,  -2.        ,  -4.5       ,\n",
      "         -8.        ],\n",
      "       [  0.        ,  -0.16666667,  -1.33333333,  -4.5       ,\n",
      "        -10.66666667],\n",
      "       [  0.        ,  -0.04166667,  -0.66666667,  -3.375     ,\n",
      "        -10.66666667]]), array([-1.        , -3.5       , -6.16666667, -7.29166667, -6.50833333]), array([-0.02638889,  0.14722222, -0.36666667,  0.89722222,  0.34861111]))\n"
     ]
    }
   ],
   "source": [
    "print(f'ADAMS-MOULTON COEFFICIENTS')\n",
    "for i in range(1, 5):\n",
    "    print(f'r={i}: {adams_moulton(i)}')"
   ]
  },
  {
   "cell_type": "markdown",
   "metadata": {},
   "source": [
    "## Backward Differentation\n",
    "For Backward Differentation method, we choose $\\beta_j = 0$ for $j<r$ so that \n",
    "$$\\sum_{j=0}^r \\alpha_j U_{n+j} = k\\beta_r f(U_{n+r}, t_{n+r})$$\n",
    "therefore\n",
    "\n",
    "the output is $$[\\alpha_0, \\ldots, \\alpha_r, \\beta_r]$$"
   ]
  },
  {
   "cell_type": "code",
   "execution_count": 29,
   "metadata": {},
   "outputs": [],
   "source": [
    "def bd_eq(order: int, q: int) -> list[float]:\n",
    "    if order < 1:\n",
    "        raise ValueError(\"Order must be positive\")\n",
    "\n",
    "    Ai = [0] * (order+2)\n",
    "    Ai[-1] = beta(q, order)  \n",
    "    for j in range(order+1):\n",
    "        Ai[j] = alpha(q, j)\n",
    "\n",
    "    return Ai, 1 if q==order+1 else 0\n",
    "\n",
    "def backward_differentation(order: int):\n",
    "    if order < 1:\n",
    "        raise ValueError(\"Order must be positive\")\n",
    "\n",
    "    A, b = [], []\n",
    "    for i in range(order+2):\n",
    "        Ai, bi = bd_eq(order, i)\n",
    "        A.append(Ai)\n",
    "        b.append(bi)\n",
    "\n",
    "    A = np.array(A)\n",
    "    b = np.array(b)\n",
    "    x = np.linalg.solve(A, b)\n",
    "\n",
    "    return A, b, x "
   ]
  },
  {
   "cell_type": "code",
   "execution_count": 30,
   "metadata": {},
   "outputs": [
    {
     "name": "stdout",
     "output_type": "stream",
     "text": [
      "BACKWARD DIFFERENTIATION COEFFICIENTS\n",
      "r=1: (array([[ 1. ,  1. ,  0. ],\n",
      "       [ 0. ,  1. , -1. ],\n",
      "       [ 0. ,  0.5, -1. ]]), array([0, 0, 1]), array([ 2., -2., -2.]))\n",
      "r=2: (array([[ 1.        ,  1.        ,  1.        ,  0.        ],\n",
      "       [ 0.        ,  1.        ,  2.        , -1.        ],\n",
      "       [ 0.        ,  0.5       ,  2.        , -2.        ],\n",
      "       [ 0.        ,  0.16666667,  1.33333333, -2.        ]]), array([0, 0, 0, 1]), array([-1.5,  6. , -4.5, -3. ]))\n",
      "r=3: (array([[ 1.        ,  1.        ,  1.        ,  1.        ,  0.        ],\n",
      "       [ 0.        ,  1.        ,  2.        ,  3.        , -1.        ],\n",
      "       [ 0.        ,  0.5       ,  2.        ,  4.5       , -3.        ],\n",
      "       [ 0.        ,  0.16666667,  1.33333333,  4.5       , -4.5       ],\n",
      "       [ 0.        ,  0.04166667,  0.66666667,  3.375     , -4.5       ]]), array([0, 0, 0, 0, 1]), array([ 1.33333333, -6.        , 12.        , -7.33333333, -4.        ]))\n",
      "r=4: (array([[ 1.00000000e+00,  1.00000000e+00,  1.00000000e+00,\n",
      "         1.00000000e+00,  1.00000000e+00,  0.00000000e+00],\n",
      "       [ 0.00000000e+00,  1.00000000e+00,  2.00000000e+00,\n",
      "         3.00000000e+00,  4.00000000e+00, -1.00000000e+00],\n",
      "       [ 0.00000000e+00,  5.00000000e-01,  2.00000000e+00,\n",
      "         4.50000000e+00,  8.00000000e+00, -4.00000000e+00],\n",
      "       [ 0.00000000e+00,  1.66666667e-01,  1.33333333e+00,\n",
      "         4.50000000e+00,  1.06666667e+01, -8.00000000e+00],\n",
      "       [ 0.00000000e+00,  4.16666667e-02,  6.66666667e-01,\n",
      "         3.37500000e+00,  1.06666667e+01, -1.06666667e+01],\n",
      "       [ 0.00000000e+00,  8.33333333e-03,  2.66666667e-01,\n",
      "         2.02500000e+00,  8.53333333e+00, -1.06666667e+01]]), array([0, 0, 0, 0, 0, 1]), array([ -1.25      ,   6.66666667, -15.        ,  20.        ,\n",
      "       -10.41666667,  -5.        ]))\n"
     ]
    }
   ],
   "source": [
    "print(f'BACKWARD DIFFERENTIATION COEFFICIENTS')\n",
    "for i in range(1, 5):\n",
    "    print(f'r={i}: {backward_differentation(i)}')"
   ]
  }
 ],
 "metadata": {
  "kernelspec": {
   "display_name": "Python 3",
   "language": "python",
   "name": "python3"
  },
  "language_info": {
   "codemirror_mode": {
    "name": "ipython",
    "version": 3
   },
   "file_extension": ".py",
   "mimetype": "text/x-python",
   "name": "python",
   "nbconvert_exporter": "python",
   "pygments_lexer": "ipython3",
   "version": "3.13.0"
  }
 },
 "nbformat": 4,
 "nbformat_minor": 2
}
