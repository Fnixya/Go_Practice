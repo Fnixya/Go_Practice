{
 "cells": [
  {
   "cell_type": "markdown",
   "metadata": {},
   "source": [
    "$$\n",
    "\\begin{align}\n",
    "\\tau(t_{n+r}) & = \\frac 1k \\bigg[\\sum_{j=0}^r \\alpha_j u(t_{n+j}) + k\\sum_{j=0}^r \\beta_j u'(t_{n+j})\\bigg] \\\\ \n",
    "& = \\cdots + k^{q-1} \\bigg[\\sum_{j=0}^r \\Big(\\frac{1}{q!} j^q \\alpha_j - \\frac{1}{(q-1)!} j^{q-1}\\beta_j \\Big)\\bigg] u^{(q)} (t_n) + \\cdots\n",
    "\\end{align}\n",
    "$$ "
   ]
  },
  {
   "cell_type": "markdown",
   "metadata": {},
   "source": [
    "To achieve the maximum efficiency possible, we want to banish the coefficients. We need to find the solution to\n",
    "$$\\begin{bmatrix}\n",
    "1 & 0 & 1 & 0 & \\cdots & 1 & 0 \\\\\n",
    "0 & -1 & 1 & -1 & \\cdots & r & 0 \\\\\n",
    "0 & -1 & 1 & -1 & \\cdots & r & 0 \\\\\n",
    "\\vdots &\\vdots&\\vdots&\\vdots&\\ddots&\\vdots&\\vdots \\\\\n",
    "1 & 0 & 1 & 0 & \\cdots & r & 0 \\\\\n",
    "\\end{bmatrix}\n",
    "\\begin{bmatrix}\n",
    "\\alpha_0 \\\\ \\beta_0 \\\\ \\alpha_1 \\\\ \\beta_1 \\\\ \\vdots \\\\ \\alpha_r \\\\ \\beta_r \n",
    "\\end{bmatrix}\n",
    "= \n",
    "\\begin{bmatrix}\n",
    "0 \\\\ 0 \\\\ 0 \\\\ 0 \\\\ \\vdots \\\\ 0 \\\\ 0\n",
    "\\end{bmatrix}\n",
    "$$\n"
   ]
  },
  {
   "cell_type": "code",
   "execution_count": 3,
   "metadata": {},
   "outputs": [],
   "source": [
    "import numpy as np"
   ]
  },
  {
   "cell_type": "code",
   "execution_count": null,
   "metadata": {},
   "outputs": [],
   "source": [
    "def factorial(n: int) -> float:\n",
    "    if n <= 1:\n",
    "        return 1\n",
    "    return n * factorial(n - 1)\n",
    "\n",
    "def alpha(q: int, j: int) -> float:\n",
    "    return j**q/factorial(q) if q!=0 else 1\n",
    "\n",
    "def beta(q: int, j: int) -> float:\n",
    "    return -(j)**(q-1)/factorial(q-1) if q!=0 else 0\n",
    "\n",
    "\n",
    "def coefficients(r: int, q: int) -> list[float]:\n",
    "    \"\"\"\n",
    "        r: step number\n",
    "        q: order of the derivative\n",
    "    \"\"\"\n",
    "    if r < 1:\n",
    "        raise ValueError(\"n must be non-negative\")\n",
    "\n",
    "    c = [0] * (2*(r+1))\n",
    "\n",
    "    # Alphas and betas\n",
    "    for j in range(r+1):\n",
    "        c[2*j] = alpha(q, j)\n",
    "        c[2*j+1] = beta(q, j)\n",
    "\n",
    "    return c"
   ]
  },
  {
   "cell_type": "markdown",
   "metadata": {},
   "source": [
    "## Adams-Bashforth\n",
    "For Adams-Bashforth method, we choose $\\alpha_r = \\alpha_{r-1} = 1$, $\\alpha_j = 0$ for $j<r-1$ and $\\beta_{r} = 0$, then we define a system of linear equations such that "
   ]
  },
  {
   "cell_type": "code",
   "execution_count": 5,
   "metadata": {},
   "outputs": [],
   "source": [
    "def adams_bashforth(r: int) -> list[list[float]]:\n",
    "    if r < 1:\n",
    "        return None\n",
    "\n",
    "    A = []\n",
    "    for i in range(r+1):\n",
    "        A.append(coefficients(r, i))\n",
    "\n",
    "    A = np.array(A)\n",
    "\n",
    "    return A"
   ]
  },
  {
   "cell_type": "markdown",
   "metadata": {},
   "source": []
  },
  {
   "cell_type": "code",
   "execution_count": 2,
   "metadata": {},
   "outputs": [
    {
     "ename": "NameError",
     "evalue": "name 'adams_bashforth' is not defined",
     "output_type": "error",
     "traceback": [
      "\u001b[1;31m---------------------------------------------------------------------------\u001b[0m",
      "\u001b[1;31mNameError\u001b[0m                                 Traceback (most recent call last)",
      "Cell \u001b[1;32mIn[2], line 1\u001b[0m\n\u001b[1;32m----> 1\u001b[0m \u001b[38;5;28mprint\u001b[39m(\u001b[43madams_bashforth\u001b[49m(\u001b[38;5;241m1\u001b[39m))\n\u001b[0;32m      2\u001b[0m \u001b[38;5;28mprint\u001b[39m(adams_bashforth(\u001b[38;5;241m2\u001b[39m))\n\u001b[0;32m      3\u001b[0m \u001b[38;5;28mprint\u001b[39m(adams_bashforth(\u001b[38;5;241m3\u001b[39m))\n",
      "\u001b[1;31mNameError\u001b[0m: name 'adams_bashforth' is not defined"
     ]
    }
   ],
   "source": [
    "print(adams_bashforth(1))\n",
    "print(adams_bashforth(2))\n",
    "print(adams_bashforth(3))\n",
    "print(adams_bashforth(4))"
   ]
  },
  {
   "cell_type": "code",
   "execution_count": null,
   "metadata": {},
   "outputs": [],
   "source": [
    "def adams_moulton():\n",
    "    pass\n",
    "\n",
    "def backward_differentation():\n",
    "    pass\n"
   ]
  }
 ],
 "metadata": {
  "kernelspec": {
   "display_name": "Python 3",
   "language": "python",
   "name": "python3"
  },
  "language_info": {
   "codemirror_mode": {
    "name": "ipython",
    "version": 3
   },
   "file_extension": ".py",
   "mimetype": "text/x-python",
   "name": "python",
   "nbconvert_exporter": "python",
   "pygments_lexer": "ipython3",
   "version": "3.13.0"
  }
 },
 "nbformat": 4,
 "nbformat_minor": 2
}
