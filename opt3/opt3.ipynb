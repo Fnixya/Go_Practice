{
 "cells": [
  {
   "cell_type": "markdown",
   "metadata": {},
   "source": [
    "# Optional Assignment 3"
   ]
  },
  {
   "cell_type": "markdown",
   "metadata": {},
   "source": [
    "A stochastic matrix is one where the sum of its columns is always one.\n",
    "\n",
    "## 1. Prove that $G$ is a stochastic matrix\n",
    "We defined $G$ as $$G_{ij} = \\frac qn + \\frac{(1-q)A_{ji}}{n_j}$$ where $n_j$ is the sum of the $j$-th row of $A$. Note that $\\sum_{i = 1}^n A_{ji}$ is also the sum of the $i$-th row of $A$, therefore\n",
    "$$\n",
    "\\begin{align}\n",
    "\\sum_{i = 1}^n G_{ij} &= \\sum_{i = 1}^n \\bigg(\\frac qn + \\frac{(1-q)A_{ji}}{n_j}\\bigg) \\\\\n",
    "    &= q + (1-q) \\sum_{i = 1}^n \\frac{A_{ji}}{n_j} \\\\\n",
    "    &= q + (1-q) \\\\ \n",
    "    &= 1\n",
    "\\end{align}\n",
    "$$"
   ]
  },
  {
   "cell_type": "markdown",
   "metadata": {},
   "source": [
    "## 2. Construct $G$\n",
    "\n",
    "Let us define the matrix $A$ as"
   ]
  },
  {
   "cell_type": "code",
   "execution_count": 205,
   "metadata": {},
   "outputs": [
    {
     "name": "stdout",
     "output_type": "stream",
     "text": [
      "[[0. 1. 0. 0. 0. 0. 0. 0. 1. 0. 0. 0. 0. 0. 0.]\n",
      " [0. 0. 1. 0. 1. 0. 1. 0. 0. 0. 0. 0. 0. 0. 0.]\n",
      " [0. 1. 0. 0. 0. 1. 0. 1. 0. 0. 0. 0. 0. 0. 0.]\n",
      " [0. 0. 1. 0. 0. 0. 0. 0. 0. 0. 0. 1. 0. 0. 0.]\n",
      " [1. 0. 0. 0. 0. 0. 0. 0. 0. 1. 0. 0. 0. 0. 0.]\n",
      " [0. 0. 0. 0. 0. 0. 0. 0. 0. 1. 1. 0. 0. 0. 0.]\n",
      " [0. 0. 0. 0. 0. 0. 0. 0. 0. 1. 1. 0. 0. 0. 0.]\n",
      " [0. 0. 0. 1. 0. 0. 0. 0. 0. 0. 1. 0. 0. 0. 0.]\n",
      " [0. 0. 0. 0. 1. 1. 0. 0. 0. 1. 0. 0. 0. 0. 0.]\n",
      " [0. 0. 0. 0. 0. 0. 0. 0. 0. 0. 0. 0. 1. 0. 0.]\n",
      " [0. 0. 0. 0. 0. 0. 0. 0. 0. 0. 0. 0. 0. 0. 1.]\n",
      " [0. 0. 0. 0. 0. 0. 1. 1. 0. 0. 1. 0. 0. 0. 0.]\n",
      " [0. 0. 0. 0. 0. 0. 0. 0. 1. 0. 0. 0. 0. 1. 0.]\n",
      " [0. 0. 0. 0. 0. 0. 0. 0. 0. 1. 1. 0. 1. 0. 1.]\n",
      " [0. 0. 0. 0. 0. 0. 0. 0. 0. 0. 0. 1. 0. 1. 0.]]\n"
     ]
    }
   ],
   "source": [
    "import numpy as np\n",
    "\n",
    "n = 15\n",
    "graph = (\n",
    "    (1, 2), (1, 9),\n",
    "    (2, 3), (2, 5), (2, 7),\n",
    "    (3, 2), (3, 6), (3, 8),\n",
    "    (4, 3), (4, 12),\n",
    "    (5, 1), (5, 10),\n",
    "    (6, 10), (6, 11),\n",
    "    (7, 10), (7, 11),\n",
    "    (8, 4), (8, 11),\n",
    "    (9, 5), (9, 6), (9, 10),\n",
    "    (10, 13),\n",
    "    (11, 15),\n",
    "    (12, 7), (12, 8), (12, 11),\n",
    "    (13, 9), (13, 14),\n",
    "    (14, 10), (14, 11), (14, 13), (14, 15),\n",
    "    (15, 12), (15, 14),\n",
    ")\n",
    "A = np.zeros((n, n))\n",
    "for i in graph:\n",
    "    A[i[0]-1][i[1]-1] = 1\n",
    "\n",
    "print(A)"
   ]
  },
  {
   "cell_type": "markdown",
   "metadata": {},
   "source": [
    "Then we compute $G$ accordingly with $q=0.15$"
   ]
  },
  {
   "cell_type": "code",
   "execution_count": 206,
   "metadata": {},
   "outputs": [
    {
     "name": "stdout",
     "output_type": "stream",
     "text": [
      "Matrix G: \n",
      "[[0.01       0.01       0.01       0.01       0.435      0.01\n",
      "  0.01       0.01       0.01       0.01       0.01       0.01\n",
      "  0.01       0.01       0.01      ]\n",
      " [0.435      0.01       0.29333333 0.01       0.01       0.01\n",
      "  0.01       0.01       0.01       0.01       0.01       0.01\n",
      "  0.01       0.01       0.01      ]\n",
      " [0.01       0.29333333 0.01       0.435      0.01       0.01\n",
      "  0.01       0.01       0.01       0.01       0.01       0.01\n",
      "  0.01       0.01       0.01      ]\n",
      " [0.01       0.01       0.01       0.01       0.01       0.01\n",
      "  0.01       0.435      0.01       0.01       0.01       0.01\n",
      "  0.01       0.01       0.01      ]\n",
      " [0.01       0.29333333 0.01       0.01       0.01       0.01\n",
      "  0.01       0.01       0.29333333 0.01       0.01       0.01\n",
      "  0.01       0.01       0.01      ]\n",
      " [0.01       0.01       0.29333333 0.01       0.01       0.01\n",
      "  0.01       0.01       0.29333333 0.01       0.01       0.01\n",
      "  0.01       0.01       0.01      ]\n",
      " [0.01       0.29333333 0.01       0.01       0.01       0.01\n",
      "  0.01       0.01       0.01       0.01       0.01       0.29333333\n",
      "  0.01       0.01       0.01      ]\n",
      " [0.01       0.01       0.29333333 0.01       0.01       0.01\n",
      "  0.01       0.01       0.01       0.01       0.01       0.29333333\n",
      "  0.01       0.01       0.01      ]\n",
      " [0.435      0.01       0.01       0.01       0.01       0.01\n",
      "  0.01       0.01       0.01       0.01       0.01       0.01\n",
      "  0.435      0.01       0.01      ]\n",
      " [0.01       0.01       0.01       0.01       0.435      0.435\n",
      "  0.435      0.01       0.29333333 0.01       0.01       0.01\n",
      "  0.01       0.2225     0.01      ]\n",
      " [0.01       0.01       0.01       0.01       0.01       0.435\n",
      "  0.435      0.435      0.01       0.01       0.01       0.29333333\n",
      "  0.01       0.2225     0.01      ]\n",
      " [0.01       0.01       0.01       0.435      0.01       0.01\n",
      "  0.01       0.01       0.01       0.01       0.01       0.01\n",
      "  0.01       0.01       0.435     ]\n",
      " [0.01       0.01       0.01       0.01       0.01       0.01\n",
      "  0.01       0.01       0.01       0.86       0.01       0.01\n",
      "  0.01       0.2225     0.01      ]\n",
      " [0.01       0.01       0.01       0.01       0.01       0.01\n",
      "  0.01       0.01       0.01       0.01       0.01       0.01\n",
      "  0.435      0.01       0.435     ]\n",
      " [0.01       0.01       0.01       0.01       0.01       0.01\n",
      "  0.01       0.01       0.01       0.01       0.86       0.01\n",
      "  0.01       0.2225     0.01      ]]\n",
      "Matrix p: \n",
      "[0.02682457 0.02986108 0.02986108 0.02682457 0.03958722 0.03958722\n",
      " 0.03958722 0.03958722 0.07456439 0.10631995 0.10631995 0.07456439\n",
      " 0.12509164 0.11632789 0.12509164], 12\n",
      "Sum of G: [1. 1. 1. 1. 1. 1. 1. 1. 1. 1. 1. 1. 1. 1. 1.]\n"
     ]
    }
   ],
   "source": [
    "n, q = 15, 0.15\n",
    "def computeG(matrix):\n",
    "    G = np.zeros((n, n))\n",
    "    for j in range(n):\n",
    "        n_j = np.sum(matrix[j])  \n",
    "        G[:, j] = q / n + matrix[j] * (1 - q) / n_j  \n",
    "\n",
    "    return G\n",
    "\n",
    "def powerMethod(G, iterations=100):\n",
    "    x = np.random.rand(n)\n",
    "    x = x / np.linalg.norm(x, ord=1)\n",
    "    for _ in range(iterations):\n",
    "        x = np.dot(G, x)\n",
    "        x = x / np.linalg.norm(x, ord=1)\n",
    "\n",
    "    return x\n",
    "\n",
    "G = computeG(A)\n",
    "p = powerMethod(G)\n",
    "print(f\"Matrix G: \\n{G}\")\n",
    "print(f\"Matrix p: \\n{p}, {np.argmax(p)}\")\n",
    "print(f\"Sum of G: {np.sum(G, axis=0)}\")"
   ]
  },
  {
   "cell_type": "markdown",
   "metadata": {},
   "source": [
    "## 3"
   ]
  },
  {
   "cell_type": "code",
   "execution_count": 207,
   "metadata": {},
   "outputs": [
    {
     "name": "stdout",
     "output_type": "stream",
     "text": [
      "(a) q=0.0 p: [0.01544402 0.01158301 0.01158301 0.01544402 0.03088803 0.03088803\n",
      " 0.03088803 0.03088803 0.08108108 0.11003861 0.11003861 0.08108108\n",
      " 0.14671815 0.14671815 0.14671815], 14\n",
      "(b) q=0.5 p:\n",
      "[0.04673566 0.0540207  0.0540207  0.04673566 0.0536093  0.0536093\n",
      " 0.0536093  0.0536093  0.06763511 0.09463396 0.09463396 0.06763511\n",
      " 0.09047144 0.07856906 0.09047144], 9\n"
     ]
    }
   ],
   "source": [
    "q = 0\n",
    "G = computeG(A)\n",
    "p = powerMethod(G)\n",
    "max_p = np.max(p)\n",
    "print(f\"(a) q=0.0 p: {p}, {np.argmax(p)}\")\n",
    "\n",
    "q = 0.5\n",
    "G = computeG(A)\n",
    "p = powerMethod(G)\n",
    "max_p = np.max(p)\n",
    "print(f\"(b) q=0.5 p:\\n{p}, {np.argmax(p)}\")"
   ]
  },
  {
   "cell_type": "markdown",
   "metadata": {},
   "source": [
    "There are multiple pages with the same probability"
   ]
  },
  {
   "cell_type": "markdown",
   "metadata": {},
   "source": [
    "## 4 Page 7 Enhancement\n"
   ]
  },
  {
   "cell_type": "code",
   "execution_count": 208,
   "metadata": {},
   "outputs": [
    {
     "name": "stdout",
     "output_type": "stream",
     "text": [
      "[0.02682457 0.02986108 0.02986108 0.02682457 0.03958722 0.03958722\n",
      " 0.03958722 0.03958722 0.07456439 0.10631995 0.10631995 0.07456439\n",
      " 0.12509164 0.11632789 0.12509164] 12\n",
      "[0.02599622 0.02847917 0.02622626 0.02393986 0.03763817 0.03901712\n",
      " 0.05284145 0.03279967 0.0761871  0.11154626 0.10327246 0.07232423\n",
      " 0.12973813 0.1172885  0.12270539] 12\n",
      "[ 0.00082835  0.00138191  0.00363482  0.0028847   0.00194905  0.0005701\n",
      " -0.01325423  0.00678754 -0.00162271 -0.00522631  0.0030475   0.00224015\n",
      " -0.00464649 -0.00096061  0.00238624]\n"
     ]
    }
   ],
   "source": [
    "q = 0.15\n",
    "G = computeG(A)\n",
    "p = powerMethod(G)\n",
    "\n",
    "for i in ((2, 7), (12, 7)):\n",
    "    A[i[0]-1][i[1]-1] = 2\n",
    "\n",
    "G = computeG(A)\n",
    "doped_p = powerMethod(G)\n",
    "print(p, np.argmax(p))\n",
    "print(doped_p, np.argmax(doped_p))\n",
    "print(p-doped_p)"
   ]
  },
  {
   "cell_type": "markdown",
   "metadata": {},
   "source": [
    "There are barely any changes, in fact, it impacts negatively on page 7 the most. The most benefited by this change are page 3, 8 and 11."
   ]
  },
  {
   "cell_type": "markdown",
   "metadata": {},
   "source": [
    "## 5 Removal of Page $10$"
   ]
  },
  {
   "cell_type": "code",
   "execution_count": 209,
   "metadata": {},
   "outputs": [
    {
     "name": "stdout",
     "output_type": "stream",
     "text": [
      "[0.03114826 0.03371671 0.03446263 0.0390201  0.04807994 0.05067955\n",
      " 0.05068841 0.03330096 0.10659126 0.17904984 0.04525503 0.19444461\n",
      " 0.11131045 0.04225225] 12 1\n",
      "Rank of each page is [ 1  3  4  5  8  9 10  2 11 13  7 14 12  6]\n"
     ]
    }
   ],
   "source": [
    "# Remove row 10 and column 10 from A\n",
    "n = 14\n",
    "A = np.delete(A, 10, axis=0)\n",
    "A = np.delete(A, 10, axis=1)\n",
    "G = computeG(A)\n",
    "p = powerMethod(G)\n",
    "print(p, np.argmax(p)+1, np.argmin(p)+1)\n",
    "print(f\"Rank of each page is {np.array([i+1 for i in p.argsort().argsort()])}\")"
   ]
  },
  {
   "cell_type": "markdown",
   "metadata": {},
   "source": [
    "Best page now is 12, and the worst is 1"
   ]
  },
  {
   "cell_type": "markdown",
   "metadata": {},
   "source": [
    "## 6 Own Network\n",
    "Assume $D$"
   ]
  },
  {
   "cell_type": "code",
   "execution_count": null,
   "metadata": {},
   "outputs": [
    {
     "name": "stdout",
     "output_type": "stream",
     "text": [
      "[[0. 1. 0. 0. 0. 0. 0.]\n",
      " [0. 0. 0. 1. 0. 0. 0.]\n",
      " [0. 1. 0. 0. 0. 0. 0.]\n",
      " [1. 0. 1. 0. 1. 0. 0.]\n",
      " [0. 0. 0. 0. 0. 1. 0.]\n",
      " [0. 0. 0. 0. 0. 0. 1.]\n",
      " [0. 0. 0. 1. 0. 0. 0.]]\n",
      "[[0.02142857 0.02142857 0.02142857 0.3047619  0.02142857 0.02142857\n",
      "  0.02142857]\n",
      " [0.87142857 0.02142857 0.87142857 0.02142857 0.02142857 0.02142857\n",
      "  0.02142857]\n",
      " [0.02142857 0.02142857 0.02142857 0.3047619  0.02142857 0.02142857\n",
      "  0.02142857]\n",
      " [0.02142857 0.87142857 0.02142857 0.02142857 0.02142857 0.02142857\n",
      "  0.87142857]\n",
      " [0.02142857 0.02142857 0.02142857 0.3047619  0.02142857 0.02142857\n",
      "  0.02142857]\n",
      " [0.02142857 0.02142857 0.02142857 0.02142857 0.87142857 0.02142857\n",
      "  0.02142857]\n",
      " [0.02142857 0.02142857 0.02142857 0.02142857 0.02142857 0.87142857\n",
      "  0.02142857]] [0.10132006 0.19367267 0.10132006 0.28196995 0.10132006 0.10755062\n",
      " 0.1128466 ]\n"
     ]
    }
   ],
   "source": [
    "n = 7\n",
    "graph = (\n",
    "    (1, 2),\n",
    "    (2, 4),\n",
    "    (3, 2),\n",
    "    (4, 1),\n",
    "    (4, 3),\n",
    "    (4, 5),\n",
    "    (5, 6),\n",
    "    (6, 7),\n",
    "    (7, 4)\n",
    ")\n",
    "D = np.zeros((n, n))\n",
    "for i in graph:\n",
    "    D[i[0]-1][i[1]-1] = 1\n",
    "\n",
    "print(D)\n",
    "G = computeG(D)\n",
    "p = powerMethod(G)\n",
    "print(G)\n",
    "print(p, np.argmax(p)+1, np.argmin(p)+1)\n",
    "print(f\"Rank of each page is {np.array([i+1 for i in p.argsort().argsort()])}\")\n"
   ]
  }
 ],
 "metadata": {
  "kernelspec": {
   "display_name": "Python 3",
   "language": "python",
   "name": "python3"
  },
  "language_info": {
   "codemirror_mode": {
    "name": "ipython",
    "version": 3
   },
   "file_extension": ".py",
   "mimetype": "text/x-python",
   "name": "python",
   "nbconvert_exporter": "python",
   "pygments_lexer": "ipython3",
   "version": "3.13.1"
  }
 },
 "nbformat": 4,
 "nbformat_minor": 2
}
