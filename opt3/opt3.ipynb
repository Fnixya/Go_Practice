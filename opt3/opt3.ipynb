{
 "cells": [
  {
   "cell_type": "markdown",
   "metadata": {},
   "source": [
    "# Optional Assignment 3"
   ]
  },
  {
   "cell_type": "code",
   "execution_count": null,
   "metadata": {},
   "outputs": [
    {
     "name": "stdout",
     "output_type": "stream",
     "text": [
      "[[0. 1. 0. 0. 0. 0. 0. 0. 1. 0. 0. 0. 0. 0. 0.]\n",
      " [0. 0. 1. 0. 1. 0. 1. 0. 0. 0. 0. 0. 0. 0. 0.]\n",
      " [0. 1. 0. 0. 0. 1. 0. 1. 0. 0. 0. 0. 0. 0. 0.]\n",
      " [0. 0. 1. 0. 0. 0. 0. 0. 0. 0. 0. 1. 0. 0. 0.]\n",
      " [1. 0. 0. 0. 0. 0. 0. 0. 0. 1. 0. 0. 0. 0. 0.]\n",
      " [0. 0. 0. 0. 0. 0. 0. 0. 0. 1. 1. 0. 0. 0. 0.]\n",
      " [0. 0. 0. 0. 0. 0. 0. 0. 0. 1. 1. 0. 0. 0. 0.]\n",
      " [0. 0. 0. 1. 0. 0. 0. 0. 0. 0. 1. 0. 0. 0. 0.]\n",
      " [0. 0. 0. 0. 1. 1. 0. 0. 0. 1. 0. 0. 0. 0. 0.]\n",
      " [0. 0. 0. 0. 0. 0. 0. 0. 0. 0. 0. 0. 1. 0. 0.]\n",
      " [0. 0. 0. 0. 0. 0. 0. 0. 0. 0. 0. 0. 0. 0. 1.]\n",
      " [0. 0. 0. 0. 0. 0. 1. 1. 0. 0. 1. 0. 0. 0. 0.]\n",
      " [0. 0. 0. 0. 0. 0. 0. 0. 1. 0. 0. 0. 0. 1. 0.]\n",
      " [0. 0. 0. 0. 0. 0. 0. 0. 0. 1. 1. 0. 1. 0. 1.]\n",
      " [0. 0. 0. 0. 0. 0. 0. 0. 0. 0. 0. 1. 0. 1. 0.]]\n"
     ]
    }
   ],
   "source": [
    "import numpy as np\n",
    "\n",
    "n = 15\n",
    "graph = (\n",
    "    (1, 2),\n",
    "    (1, 9),\n",
    "    (2, 3),\n",
    "    (2, 5),\n",
    "    (2, 7),\n",
    "    (3, 2),\n",
    "    (3, 6),\n",
    "    (3, 8),\n",
    "    (4, 3),\n",
    "    (4, 12),\n",
    "    (5, 1),\n",
    "    (5, 10),\n",
    "    (6, 10),\n",
    "    (6, 11),\n",
    "    (7, 10),\n",
    "    (7, 11),\n",
    "    (8, 4),\n",
    "    (8, 11),\n",
    "    (9, 5),\n",
    "    (9, 6),\n",
    "    (9, 10),\n",
    "    (10, 13),\n",
    "    (11, 15),\n",
    "    (12, 7),\n",
    "    (12, 8),\n",
    "    (12, 11),\n",
    "    (13, 9),\n",
    "    (13, 14),\n",
    "    (14, 10),\n",
    "    (14, 11),\n",
    "    (14, 13),\n",
    "    (14, 15),\n",
    "    (15, 12),\n",
    "    (15, 14),\n",
    ")\n",
    "matrix = np.zeros((n, n))\n",
    "for i in graph:\n",
    "    matrix[i[0]-1][i[1]-1] = 1\n",
    "\n",
    "print(matrix)"
   ]
  },
  {
   "cell_type": "markdown",
   "metadata": {},
   "source": [
    "A stochastic matrix is one where the sum of its columns is always one.\n",
    "\n",
    "## 1. Prove that $G$ is a stochastic matrix\n",
    "We defined $G$ as $$G_{ij} = \\frac qn + \\frac{(1-q)A_{ji}}{n_j}$$ where $n_j$ is the sum of the $j$-th row of $A$. Note that $\\sum_{i = 1}^n A_{ji}$ is also the sum of the $i$-th row of $A$, therefore\n",
    "$$\n",
    "\\begin{align}\n",
    "\\sum_{i = 1}^n G_{ij} &= \\sum_{i = 1}^n \\bigg(\\frac qn + \\frac{(1-q)A_{ji}}{n_j}\\bigg) \\\\\n",
    "    &= q + (1-q) \\sum_{i = 1}^n \\frac{A_{ji}}{n_j} \\\\\n",
    "    &= q + (1-q) \\\\ \n",
    "    &= 1\n",
    "\\end{align}\n",
    "$$"
   ]
  },
  {
   "cell_type": "code",
   "execution_count": null,
   "metadata": {},
   "outputs": [],
   "source": [
    "   "
   ]
  }
 ],
 "metadata": {
  "kernelspec": {
   "display_name": "Python 3",
   "language": "python",
   "name": "python3"
  },
  "language_info": {
   "codemirror_mode": {
    "name": "ipython",
    "version": 3
   },
   "file_extension": ".py",
   "mimetype": "text/x-python",
   "name": "python",
   "nbconvert_exporter": "python",
   "pygments_lexer": "ipython3",
   "version": "3.13.1"
  }
 },
 "nbformat": 4,
 "nbformat_minor": 2
}
