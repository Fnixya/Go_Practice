{
 "cells": [
  {
   "cell_type": "markdown",
   "metadata": {},
   "source": [
    "# Optional Assignment 3\n",
    "Yan Chen Zhou - 100496757"
   ]
  },
  {
   "cell_type": "markdown",
   "metadata": {},
   "source": [
    "## 1. Prove that $G$ is a stochastic matrix\n",
    "A stochastic matrix is one where the sum of its columns is always one.\n",
    "\n",
    "We defined $G$ as $$G_{ij} = \\frac qn + \\frac{(1-q)A_{ji}}{n_j}$$ where $n_j$ is the sum of the $j$-th row of $A$. Note that $\\sum_{i = 1}^n A_{ji}$ is also the sum of the $i$-th row of $A$, therefore\n",
    "$$\n",
    "\\begin{align}\n",
    "\\sum_{i = 1}^n G_{ij} &= \\sum_{i = 1}^n \\bigg(\\frac qn + \\frac{(1-q)A_{ji}}{n_j}\\bigg) \\\\\n",
    "    &= q + (1-q) \\sum_{i = 1}^n \\frac{A_{ji}}{n_j} \\\\\n",
    "    &= q + (1-q) \\\\ \n",
    "    &= 1\n",
    "\\end{align}\n",
    "$$"
   ]
  },
  {
   "cell_type": "markdown",
   "metadata": {},
   "source": [
    "## 2. Construction of $G$\n",
    "\n",
    "Let us define the matrix $A$ as"
   ]
  },
  {
   "cell_type": "code",
   "execution_count": 84,
   "metadata": {},
   "outputs": [
    {
     "name": "stdout",
     "output_type": "stream",
     "text": [
      "[[0. 1. 0. 0. 0. 0. 0. 0. 1. 0. 0. 0. 0. 0. 0.]\n",
      " [0. 0. 1. 0. 1. 0. 1. 0. 0. 0. 0. 0. 0. 0. 0.]\n",
      " [0. 1. 0. 0. 0. 1. 0. 1. 0. 0. 0. 0. 0. 0. 0.]\n",
      " [0. 0. 1. 0. 0. 0. 0. 0. 0. 0. 0. 1. 0. 0. 0.]\n",
      " [1. 0. 0. 0. 0. 0. 0. 0. 0. 1. 0. 0. 0. 0. 0.]\n",
      " [0. 0. 0. 0. 0. 0. 0. 0. 0. 1. 1. 0. 0. 0. 0.]\n",
      " [0. 0. 0. 0. 0. 0. 0. 0. 0. 1. 1. 0. 0. 0. 0.]\n",
      " [0. 0. 0. 1. 0. 0. 0. 0. 0. 0. 1. 0. 0. 0. 0.]\n",
      " [0. 0. 0. 0. 1. 1. 0. 0. 0. 1. 0. 0. 0. 0. 0.]\n",
      " [0. 0. 0. 0. 0. 0. 0. 0. 0. 0. 0. 0. 1. 0. 0.]\n",
      " [0. 0. 0. 0. 0. 0. 0. 0. 0. 0. 0. 0. 0. 0. 1.]\n",
      " [0. 0. 0. 0. 0. 0. 1. 1. 0. 0. 1. 0. 0. 0. 0.]\n",
      " [0. 0. 0. 0. 0. 0. 0. 0. 1. 0. 0. 0. 0. 1. 0.]\n",
      " [0. 0. 0. 0. 0. 0. 0. 0. 0. 1. 1. 0. 1. 0. 1.]\n",
      " [0. 0. 0. 0. 0. 0. 0. 0. 0. 0. 0. 1. 0. 1. 0.]]\n"
     ]
    }
   ],
   "source": [
    "import numpy as np\n",
    "\n",
    "n = 15\n",
    "graph = (\n",
    "    (1, 2), (1, 9),\n",
    "    (2, 3), (2, 5), (2, 7),\n",
    "    (3, 2), (3, 6), (3, 8),\n",
    "    (4, 3), (4, 12),\n",
    "    (5, 1), (5, 10),\n",
    "    (6, 10), (6, 11),\n",
    "    (7, 10), (7, 11),\n",
    "    (8, 4), (8, 11),\n",
    "    (9, 5), (9, 6), (9, 10),\n",
    "    (10, 13),\n",
    "    (11, 15),\n",
    "    (12, 7), (12, 8), (12, 11),\n",
    "    (13, 9), (13, 14),\n",
    "    (14, 10), (14, 11), (14, 13), (14, 15),\n",
    "    (15, 12), (15, 14),\n",
    ")\n",
    "A = np.zeros((n, n))\n",
    "for i in graph:\n",
    "    A[i[0]-1][i[1]-1] = 1\n",
    "\n",
    "print(A)"
   ]
  },
  {
   "cell_type": "markdown",
   "metadata": {},
   "source": [
    "Then we set $q=0.15$ and compute $G$ and $p$. We will be using norm 1 in the power method to normalize the vector."
   ]
  },
  {
   "cell_type": "code",
   "execution_count": 85,
   "metadata": {},
   "outputs": [
    {
     "name": "stdout",
     "output_type": "stream",
     "text": [
      "Sum of the columns of G: [1. 1. 1. 1. 1. 1. 1. 1. 1. 1. 1. 1. 1. 1. 1.]\n",
      "The eigenvector p: \n",
      "[0.02682457 0.02986108 0.02986108 0.02682457 0.03958722 0.03958722\n",
      " 0.03958722 0.03958722 0.07456439 0.10631995 0.10631995 0.07456439\n",
      " 0.12509164 0.11632789 0.12509164], 12\n"
     ]
    }
   ],
   "source": [
    "n, q = 15, 0.15\n",
    "def computeG(matrix):\n",
    "    G = np.zeros((n, n))\n",
    "    for j in range(n):\n",
    "        n_j = np.sum(matrix[j])  \n",
    "        G[:, j] = q / n + matrix[j] * (1 - q) / n_j  \n",
    "\n",
    "    return G\n",
    "\n",
    "def powerMethod(G, iterations=100):\n",
    "    x = np.random.rand(n)\n",
    "    x = x / np.linalg.norm(x, ord=1)\n",
    "    for _ in range(iterations):\n",
    "        x = np.dot(G, x)\n",
    "        x = x / np.linalg.norm(x, ord=1)\n",
    "\n",
    "    return x\n",
    "\n",
    "G = computeG(A)\n",
    "p = powerMethod(G)\n",
    "print(f\"Sum of the columns of G: {np.sum(G, axis=0)}\")\n",
    "print(f\"The eigenvector p: \\n{p}, {np.argmax(p)}\")"
   ]
  },
  {
   "cell_type": "markdown",
   "metadata": {},
   "source": [
    "We can see that the sum of the columns of $G$ is indeed equal to $1$. Moreover, we can verify that the eigenvector $p$ is the same."
   ]
  },
  {
   "cell_type": "markdown",
   "metadata": {},
   "source": [
    "## 3 Changing the jump probability $q$\n",
    "Let's set $q_1 = 0$ and $q_2=0.5$ and compute $G_{i}$ and $p_{i}$"
   ]
  },
  {
   "cell_type": "code",
   "execution_count": 86,
   "metadata": {},
   "outputs": [
    {
     "name": "stdout",
     "output_type": "stream",
     "text": [
      "(a) q=0.0 p: [0.01544402 0.01158301 0.01158301 0.01544402 0.03088803 0.03088803\n",
      " 0.03088803 0.03088803 0.08108108 0.11003861 0.11003861 0.08108108\n",
      " 0.14671815 0.14671815 0.14671815]\n",
      "(b) q=0.5 p:\n",
      "[0.04673566 0.0540207  0.0540207  0.04673566 0.0536093  0.0536093\n",
      " 0.0536093  0.0536093  0.06763511 0.09463396 0.09463396 0.06763511\n",
      " 0.09047144 0.07856906 0.09047144]\n"
     ]
    }
   ],
   "source": [
    "q = 0\n",
    "G = computeG(A)\n",
    "p = powerMethod(G)\n",
    "max_p = np.max(p)\n",
    "print(f\"(a) q=0.0 p: {p}\")\n",
    "\n",
    "q = 0.5\n",
    "G = computeG(A)\n",
    "p = powerMethod(G)\n",
    "max_p = np.max(p)\n",
    "print(f\"(b) q=0.5 p:\\n{p}\")"
   ]
  },
  {
   "cell_type": "markdown",
   "metadata": {},
   "source": [
    "We can verify that biggest rank value are $0.14671815$ and $0.09463396$ in each eigenvector $p_{1}$ and $p_2$ respectively. However, these values are not unique.\n",
    "\n",
    "The jump probability $q$ serves to give more relevance to those pages that has more receiving traffic than outgoing."
   ]
  },
  {
   "cell_type": "markdown",
   "metadata": {},
   "source": [
    "## 4 Improving Page 7's Rank\n"
   ]
  },
  {
   "cell_type": "code",
   "execution_count": 87,
   "metadata": {},
   "outputs": [
    {
     "name": "stdout",
     "output_type": "stream",
     "text": [
      "Original eigenvector: [0.02682457 0.02986108 0.02986108 0.02682457 0.03958722 0.03958722\n",
      " 0.03958722 0.03958722 0.07456439 0.10631995 0.10631995 0.07456439\n",
      " 0.12509164 0.11632789 0.12509164]\n",
      "Highest ranked page: 13\n",
      "Modified eigenvector: [0.02599622 0.02847917 0.02622626 0.02393986 0.03763817 0.03901712\n",
      " 0.05284145 0.03279967 0.0761871  0.11154626 0.10327246 0.07232423\n",
      " 0.12973813 0.1172885  0.12270539]\n",
      "Highest ranked page: 13\n",
      "\n",
      "Difference in page ranking: [-0.00082835 -0.00138191 -0.00363482 -0.0028847  -0.00194905 -0.0005701\n",
      "  0.01325423 -0.00678754  0.00162271  0.00522631 -0.0030475  -0.00224015\n",
      "  0.00464649  0.00096061 -0.00238624]\n"
     ]
    }
   ],
   "source": [
    "q = 0.15\n",
    "G = computeG(A)\n",
    "p = powerMethod(G)\n",
    "\n",
    "for i in ((2, 7), (12, 7)):\n",
    "    A[i[0]-1][i[1]-1] = 2\n",
    "\n",
    "G = computeG(A)\n",
    "doped_p = powerMethod(G)\n",
    "print(f\"Original eigenvector: {p}\")\n",
    "print(f\"Highest ranked page: {np.argmax(p)+1}\")\n",
    "print(f\"Modified eigenvector: {doped_p}\")\n",
    "print(f\"Highest ranked page: {np.argmax(doped_p)+1}\")\n",
    "print(f\"\\nDifference in page ranking: {doped_p-p}\")"
   ]
  },
  {
   "cell_type": "markdown",
   "metadata": {},
   "source": [
    "There changes are very small, but it has succeded on improving its page rank and is now surpasing its competitor Page 6. Moreover, it has also benefitted Pages 8, 9 and 13."
   ]
  },
  {
   "cell_type": "markdown",
   "metadata": {},
   "source": [
    "## 5 Removal of Page $10$\n",
    "We'll reverse the modification from the previous section and remove Page 10:"
   ]
  },
  {
   "cell_type": "code",
   "execution_count": 88,
   "metadata": {},
   "outputs": [
    {
     "name": "stdout",
     "output_type": "stream",
     "text": [
      "Eigenvector: [0.03207005 0.03593562 0.04091142 0.04709499 0.05024885 0.05165866\n",
      " 0.04139102 0.04280083 0.10359814 0.1709627  0.04822346 0.18648019\n",
      " 0.10746218 0.0411619 ]\n",
      "Highest ranked page: 12\n",
      "Lowest ranked page: 1\n",
      "Rank of each page is [ 1  2  3  7  9 10  5  6 11 13  8 14 12  4]\n"
     ]
    }
   ],
   "source": [
    "# Remove row 10 and column 10 from A\n",
    "n = 14\n",
    "for i in ((2, 7), (12, 7)):\n",
    "    A[i[0]-1][i[1]-1] = 1\n",
    "A = np.delete(A, 10, axis=0)\n",
    "A = np.delete(A, 10, axis=1)\n",
    "\n",
    "G = computeG(A)\n",
    "p = powerMethod(G)\n",
    "print(f\"Eigenvector: {p}\")\n",
    "print(f\"Highest ranked page: {np.argmax(p)+1}\")\n",
    "print(f\"Lowest ranked page: {np.argmin(p)+1}\")\n",
    "print(f\"Rank of each page is {np.array([i+1 for i in p.argsort().argsort()])}\")"
   ]
  },
  {
   "cell_type": "markdown",
   "metadata": {},
   "source": [
    "Best page now is Page 12 (previously Page 13), and the worst is Page 1."
   ]
  },
  {
   "attachments": {
    "image.png": {
     "image/png": "[encoded data removed]"
    }
   },
   "cell_type": "markdown",
   "metadata": {},
   "source": [
    "## 6 Own Network\n",
    "Assume $D$ is \n",
    "\n",
    "![image.png](attachment:image.png)\n",
    "\n",
    "then"
   ]
  },
  {
   "cell_type": "code",
   "execution_count": 89,
   "metadata": {},
   "outputs": [
    {
     "name": "stdout",
     "output_type": "stream",
     "text": [
      "Eigenvector: [0.08247207 0.16163108 0.08247207 0.2872635  0.08247207 0.15257332\n",
      " 0.15111589]\n",
      "Highest ranked page: 4\n",
      "Lowest ranked page: 1\n",
      "Rank of each page is [1 6 2 7 3 5 4]\n"
     ]
    }
   ],
   "source": [
    "n = 7\n",
    "graph = (\n",
    "    (1, 2),\n",
    "    (2, 4),\n",
    "    (3, 2),\n",
    "    (4, 1),\n",
    "    (4, 3),\n",
    "    (4, 5),\n",
    "    (4, 6),\n",
    "    (5, 6),\n",
    "    (6, 7),\n",
    "    (7, 4)\n",
    ")\n",
    "D = np.zeros((n, n))\n",
    "for i in graph:\n",
    "    D[i[0]-1][i[1]-1] = 1\n",
    "\n",
    "G = computeG(D)\n",
    "p = powerMethod(G)\n",
    "print(f\"Eigenvector: {p}\")\n",
    "print(f\"Highest ranked page: {np.argmax(p)+1}\")\n",
    "print(f\"Lowest ranked page: {np.argmin(p)+1}\")\n",
    "print(f\"Rank of each page is {np.array([i+1 for i in p.argsort().argsort()])}\")\n"
   ]
  }
 ],
 "metadata": {
  "kernelspec": {
   "display_name": "Python 3",
   "language": "python",
   "name": "python3"
  },
  "language_info": {
   "codemirror_mode": {
    "name": "ipython",
    "version": 3
   },
   "file_extension": ".py",
   "mimetype": "text/x-python",
   "name": "python",
   "nbconvert_exporter": "python",
   "pygments_lexer": "ipython3",
   "version": "3.13.1"
  }
 },
 "nbformat": 4,
 "nbformat_minor": 2
}
