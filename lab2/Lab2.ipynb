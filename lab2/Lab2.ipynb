{
  "nbformat": 4,
  "nbformat_minor": 0,
  "metadata": {
    "colab": {
      "provenance": []
    },
    "kernelspec": {
      "name": "python3",
      "display_name": "Python 3"
    },
    "language_info": {
      "name": "python"
    }
  },
  "cells": [
    {
      "cell_type": "markdown",
      "source": [
        "# Lab 2: Computation of Eigenvalues and Eigenvectors\n",
        "\n",
        "## 1. Rayleigh Quotient Iteration\n",
        "\n",
        "The Rayleigh quotient can be used in conjunction with the Shifted Inverse Power Method (sIPM). The sIPM converges to the eigenvector associated with the eigenvalue closest to the shift $s$, and convergence is faster when this distance is small. By updating the shift dynamically using the Rayleigh quotient, we obtain the **Rayleigh Quotient Iteration (RQI)**, which accelerates convergence significantly.\n",
        "\n",
        "### Algorithm: Rayleigh Quotient Iteration (RQI)\n",
        "\n",
        "Given:\n",
        "- A matrix $A$\n",
        "- An initial vector $x_0$\n",
        "- Maximum number of iterations $k_{max}$\n",
        "- Initial shift $s$\n",
        "\n",
        "Steps:\n",
        "1. Set $\\lambda_0 = s$\n",
        "2. Normalize the initial vector: $u_{0} = x_{0} /||x_{0}||$\n",
        "3. For $j = 1, 2, 3, \\dots, k_{max}$:\n",
        "   - Solve $(A-\\lambda_{j-1}I)x_j = u_{j-1}$\n",
        "   - Normalize: $u_{j} = x_{j} /||x_{j}||$\n",
        "   - Compute the Rayleigh quotient: $\\lambda_{j} = u^T_{j} A u_{j}$\n",
        "\n",
        "RQI converges **quadratically** for simple eigenvalues and **cubically** for symmetric matrices, meaning it requires very few iterations to reach machine precision.\n",
        "\n",
        "---"
      ],
      "metadata": {
        "id": "19XFjG08sMCG"
      }
    },
    {
      "cell_type": "markdown",
      "source": [
        "## Questions\n",
        "\n"
      ],
      "metadata": {
        "id": "D7vEvd60z967"
      }
    },
    {
      "cell_type": "markdown",
      "source": [
        "(a) Implement the RQI algorithm. Run your RQI implementation using the matrix for $k_{max}=100$ and $s=100$:  \n",
        "```python\n",
        "A = np.array([[25, -41, 10, -6], [-41, 68, -17, 10], [10, -17, 5, -3], [-6, 10, -3, 2]])\n",
        "```\n",
        "At each iteration, compute the condition number of  $(A - \\lambda_j I)$ using `np.linalg.cond` and plot it on a **semilog-y scale**. What do you observe about the growth of the condition number? Why does the condition number increase significantly as the iteration progresses?  "
      ],
      "metadata": {
        "id": "raXW6vdKvMgY"
      }
    },
    {
      "cell_type": "markdown",
      "source": [
        "(b) To prevent ill-conditioning, include the following stopping criterions. Run your modified code and check whether it prevents ill-conditioning.\n",
        "\n",
        "- Check the variations: if $|\\lambda_j - \\lambda_{j-1}| < \\text{tol}$, stop.\n",
        "\n",
        "- Use a Relative Condition Number Threshold:\n",
        "$$\n",
        "\\text{cond}(A - \\lambda_j I) > \\frac{1}{\\text{machine epsilon}}\n",
        "$$\n",
        "```python\n",
        "if np.linalg.cond(A - lam_new * np.eye(A.shape[0])) > 1 / np.finfo(float).eps:\n",
        "    break  # Stop if nearly singular\n",
        "```\n",
        "This ensures the algorithm stops when the matrix is numerically unstable.\n",
        "\n",
        "- Track the Condition Number Growth: Instead of stopping abruptly when the condition number crosses the threshold, check its growth rate. If it increases exponentially across multiple iterations, stop early:\n",
        "```python\n",
        "if len(cond_history) > 2 and cond_history[-1] > 10 * cond_history[-2]:\n",
        "    break  # Stop if condition number increases too fast\n",
        "```\n",
        "\n",
        "- Use Residual-Based Stopping: An alternative approach is to stop when the **residual** becomes too large:  \n",
        "$$\n",
        "\\| (A - \\lambda_j I) x_j \\| < \\text{tol}\n",
        "$$\n",
        "This ensures we halt when the computed eigenvector no longer improves:\n",
        "```python\n",
        "residual = np.linalg.norm((A - lam_new * np.eye(A.shape[0])) @ x_new)\n",
        "if residual < tol:\n",
        "    break\n",
        "```"
      ],
      "metadata": {
        "id": "DN4hpHuavCqw"
      }
    },
    {
      "cell_type": "markdown",
      "source": [
        "(c) Compare the efficiency of sIPM and RQI when applied to a $N \\times N$ random symmetric matrix. Use:\n",
        "\n",
        "  ```python\n",
        "  import numpy as np\n",
        "  import matplotlib.pyplot as plt\n",
        "\n",
        "  N_values = [4, 8, 16, 32, 64, 128, 256]\n",
        "  iterations_sIPM = []\n",
        "  iterations_RQI = []\n",
        "\n",
        "  for N in N_values:\n",
        "      A = np.random.rand(N, N)\n",
        "      B = (A @ A.T) / 2  # symmetric matrix\n",
        "      \n",
        "      # Call your sIPM and RQI functions here to get iterations and store in the lists\n",
        "      # Example:\n",
        "      # iterations_sIPM.append(run_sIPM(B, ...))\n",
        "      # iterations_RQI.append(run_RQI(B, ...))\n",
        "\n",
        "  plt.figure()\n",
        "  plt.semilogy(N_values, iterations_sIPM, label='sIPM')\n",
        "  plt.semilogy(N_values, iterations_RQI, label='RQI')\n",
        "  plt.xlabel('Matrix Size N')\n",
        "  plt.ylabel('Number of Iterations')\n",
        "  plt.legend()\n",
        "  plt.show()\n",
        "  ```\n",
        "\n",
        "with\n",
        "\n",
        "  - `k = 1e4` -- maximum number of iterations\n",
        "  - `s = 100` -- initial shift\n",
        "  - `x = np.random.rand(N, 1)` -- initial vector\n",
        "  "
      ],
      "metadata": {
        "id": "dolMOcpa3VNk"
      }
    },
    {
      "cell_type": "markdown",
      "source": [
        "\n",
        "(d) Compare the convergence of sIPM and RQI as a function of the number of iterations when computing the eigenvalues of a $24 \\times 24$ random symmetric matrix. For that purpose, you need to modify both scripts so that:\n",
        "\n",
        "  - The computed eigenvalue $\\hat{\\lambda}$ is stored in an array.\n",
        "  - Use `eig` from `numpy.linalg` to obtain the reference eigenvalue $\\lambda_e$.\n",
        "  - Plot in the same figure the error $|\\hat{\\lambda} - \\lambda_e|$ as a function of the number of iterations in a `semilogy` scale. Make sure to select the right reference eigenvalue when computing the error.\n",
        "\n",
        "  Use:\n",
        "\n",
        "  ```python\n",
        "  from numpy.linalg import eig\n",
        "\n",
        "  N = 24\n",
        "  B = np.random.rand(N, N)\n",
        "  B = (B @ B.T) / 2  # symmetric matrix\n",
        "  x = np.random.rand(N, 1)  # initial vector\n",
        "  k = 20  # maximum number of iterations\n",
        "  s = 100  # initial shift\n",
        "  \n",
        "  reference_eigenvalues, _ = eig(B)\n",
        "\n",
        "  computed_eigenvalues_sIPM = []\n",
        "  computed_eigenvalues_RQI = []\n",
        "\n",
        "  for iteration in range(k):\n",
        "      # Run sIPM and RQI, storing the computed eigenvalue at each iteration\n",
        "      # Example:\n",
        "      # computed_eigenvalues_sIPM.append(run_sIPM(B, x, s, iteration))\n",
        "      # computed_eigenvalues_RQI.append(run_RQI(B, x, s, iteration))\n",
        "      pass\n",
        "  \n",
        "  error_sIPM = np.abs(np.array(computed_eigenvalues_sIPM) - reference_eigenvalues[0])  # Assuming using first eigenvalue\n",
        "  error_RQI = np.abs(np.array(computed_eigenvalues_RQI) - reference_eigenvalues[0])\n",
        "\n",
        "  plt.figure()\n",
        "  plt.semilogy(range(k), error_sIPM, label='sIPM Error')\n",
        "  plt.semilogy(range(k), error_RQI, label='RQI Error')\n",
        "  plt.xlabel('Iterations')\n",
        "  plt.ylabel('Error (log scale)')\n",
        "  plt.legend()\n",
        "  plt.show()\n",
        "  ```\n",
        "\n",
        "  - `B` -- matrix\n",
        "  - `x = np.random.rand(N, 1)` -- initial vector\n",
        "  - `k = 20` -- maximum number of iterations\n",
        "  - `s = 100` -- initial shift\n"
      ],
      "metadata": {
        "id": "1VLo-taJ3f79"
      }
    }
  ]
}