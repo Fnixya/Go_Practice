{
  "cells": [
    {
      "cell_type": "markdown",
      "metadata": {
        "id": "nPUYnzYq_cpu"
      },
      "source": [
        "# Extra Assignment: QR Factorization and Eigenvalue Computation\n",
        "\n",
        "## Objective\n",
        "In this assignment, you will explore different approaches to QR factorization and apply them to compute eigenvalues using the unshifted QR algorithm. The goal is to analyze the performance, accuracy, and numerical stability of different methods.\n",
        "\n",
        "## Learning Outcomes\n",
        "By completing this assignment, you will:\n",
        "- Implement QR factorization using **Givens rotations**.\n",
        "- Compare it with **Householder reflections** (which was covered in class).\n",
        "- Utilize **NumPy's built-in QR factorization** for reference.\n",
        "- Apply the **unshifted QR algorithm** to compute eigenvalues.\n",
        "- Analyze the performance and accuracy of these methods.\n",
        "\n",
        "## Background\n",
        "QR factorization decomposes a matrix $A$ into an orthogonal matrix $Q$ and an upper triangular matrix $R$:\n",
        "$$\n",
        "A = QR\n",
        "$$\n",
        "This decomposition is fundamental in solving least squares problems and in computing eigenvalues using iterative methods such as the **QR algorithm**.\n",
        "\n",
        "The **unshifted QR algorithm** consists of iteratively factorizing a matrix into $QR$, then updating it as:\n",
        "$$\n",
        "A_{k+1} = R_k Q_k\n",
        "$$\n",
        "This process typically converges to an upper triangular matrix whose diagonal entries approximate the eigenvalues of $A$.\n",
        "\n",
        "\n",
        "## Why Compare Different Methods?\n",
        "\n",
        "- **Givens rotations** are numerically stable and efficient for sparse matrices.\n",
        "- **Householder reflections** are widely used due to their efficiency in dense matrices.\n",
        "- **NumPy's built-in QR** is optimized and serves as a benchmark.\n",
        "- Comparing these approaches helps in understanding their trade-offs.\n"
      ]
    },
    {
      "cell_type": "markdown",
      "metadata": {
        "id": "Amg3yXv9AmeF"
      },
      "source": [
        "---\n",
        "\n",
        "## **Givens Rotations: An Overview**  \n",
        "\n",
        "Givens rotations are a technique used in numerical linear algebra to introduce zeros into matrices. They are particularly useful for QR factorization and solving least squares problems. Unlike Householder reflections, which operate on entire columns, Givens rotations only affect two rows at a time, making them efficient for sparse matrices.\n",
        "\n",
        "#### Definition of a Givens Rotation\n",
        "A **Givens rotation** is a special orthogonal transformation represented by a rotation matrix $G(i, j, \\theta)$ that operates on two coordinates (rows) of a matrix:\n",
        "\n",
        "$$\n",
        "G(i, j, \\theta) =\n",
        "\\begin{bmatrix}\n",
        "1 &  &  &  &  \\\\\n",
        "& \\ddots &  &  &  \\\\\n",
        "&  & c & s &  \\\\\n",
        "&  & -s & c &  \\\\\n",
        "&  &  &  & \\ddots \\\\\n",
        "\\end{bmatrix}\n",
        "$$\n",
        "\n",
        "where $c = \\cos(\\theta)$ and $s = \\sin(\\theta)$. The rotation only affects rows $i$ and $j$ of the matrix.\n",
        "\n",
        "\n",
        "#### Zeroing Out a Matrix Entry\n",
        "Given a matrix $A$, we want to introduce a zero in position $A_{j,k}$ while preserving the norm of the affected elements. The Givens rotation achieves this by choosing:\n",
        "$$\n",
        "c = \\frac{a}{\\sqrt{a^2 + b^2}}, \\quad s = \\frac{b}{\\sqrt{a^2 + b^2}}\n",
        "$$\n",
        "where $a = A_{i,k}$ and $b = A_{j,k}$.\n",
        "\n",
        "Applying $G(i, j, \\theta)$ on the left of $A$ updates only the rows $i$ and $j$ as follows:\n",
        "$$\n",
        "\\begin{bmatrix} c & s \\\\ -s & c \\end{bmatrix} \\begin{bmatrix} a \\\\ b \\end{bmatrix} = \\begin{bmatrix} \\sqrt{a^2 + b^2} \\\\ 0 \\end{bmatrix}\n",
        "$$\n",
        "\n",
        "This ensures that the entry $A_{j,k}$ is zeroed out.\n",
        "\n",
        "\n",
        "#### *Example done in class*\n",
        "\n",
        "Find a Givens rotation $G$ with the property that $GA$ has a zero entry in the second row and first column, where  \n",
        "\n",
        "$$\n",
        "A =\n",
        "\\begin{bmatrix}\n",
        "3 & 1 & 0 \\\\\n",
        "1 & 3 & 1 \\\\\n",
        "0 & 1 & 3\n",
        "\\end{bmatrix}.\n",
        "$$\n",
        "\n",
        "*Solution:* The form of $G$ is  \n",
        "\n",
        "$$\n",
        "G =\n",
        "\\begin{bmatrix}\n",
        "\\cos\\theta & \\sin\\theta & 0 \\\\\n",
        "-\\sin\\theta & \\cos\\theta & 0 \\\\\n",
        "0 & 0 & 1\n",
        "\\end{bmatrix}\n",
        "$$\n",
        "\n",
        "so  \n",
        "\n",
        "$$\n",
        "GA =\n",
        "\\begin{bmatrix}\n",
        "3\\cos\\theta + \\sin\\theta & \\cos\\theta + 3\\sin\\theta & \\sin\\theta \\\\\n",
        "-3\\sin\\theta + \\cos\\theta & -\\sin\\theta + 3\\cos\\theta & \\cos\\theta \\\\\n",
        "0 & 1 & 3\n",
        "\\end{bmatrix}.\n",
        "$$\n",
        "\n",
        "The angle $\\theta$ is chosen so that $-3\\sin\\theta + \\cos\\theta = 0$, that is, so that $\\tan\\theta = \\frac{1}{3}$. Hence  \n",
        "\n",
        "$$\n",
        "\\cos\\theta = \\frac{3\\sqrt{10}}{10}, \\quad \\sin\\theta = \\frac{\\sqrt{10}}{10}.\n",
        "$$\n",
        "\n",
        "and  \n",
        "\n",
        "$$\n",
        "GA =\n",
        "\\begin{bmatrix}\n",
        "\\frac{3\\sqrt{10}}{10} & \\frac{\\sqrt{10}}{10} & 0 \\\\\n",
        "-\\frac{\\sqrt{10}}{10} & \\frac{3\\sqrt{10}}{10} & 0 \\\\\n",
        "0 & 0 & 1\n",
        "\\end{bmatrix}\n",
        "\\begin{bmatrix}\n",
        "3 & 1 & 0 \\\\\n",
        "1 & 3 & 1 \\\\\n",
        "0 & 1 & 3\n",
        "\\end{bmatrix}\n",
        "=\n",
        "\\begin{bmatrix}\n",
        "\\sqrt{10} & \\frac{3}{5}\\sqrt{10} & \\frac{1}{10}\\sqrt{10} \\\\\n",
        "0 & \\frac{4}{5}\\sqrt{10} & \\frac{3}{10}\\sqrt{10} \\\\\n",
        "0 & 1 & 3\n",
        "\\end{bmatrix}.\n",
        "$$\n",
        "\n",
        "Note that the resulting matrix is neither symmetric nor tridiagonal.\n",
        "\n",
        "#### QR Factorization Using Givens Rotations\n",
        "\n",
        "To compute the QR decomposition using Givens rotations:\n",
        "1. Start with $A$ and initialize $Q$ as an identity matrix.\n",
        "2. For each subdiagonal element $A_{j,k}$ (where $j > k$), apply a Givens rotation to zero it out.\n",
        "3. Multiply $Q$ by each rotation matrix $G(i, j, \\theta)$ in sequence.\n",
        "4. The final $Q$ is the product of all Givens rotations, and $R$ is the transformed upper triangular matrix.\n",
        "\n",
        "#### Advantages and Disadvantages\n",
        "\n",
        "**Advantages:**\n",
        "- Efficient for **sparse** matrices since it only modifies two rows at a time.\n",
        "- **Numerically stable** since it relies on orthogonal transformations.\n",
        "- Parallelizable for certain architectures.\n",
        "\n",
        "**Disadvantages:**\n",
        "- Computationally more expensive than Householder reflections for dense matrices (since each element must be zeroed out individually).\n",
        "- More complex to implement than the standard Gram-Schmidt process.\n",
        "\n",
        "#### Application to Eigenvalue Computation\n",
        "\n",
        "Givens rotations can be used in the **unshifted QR algorithm**, where repeated QR factorizations are applied to approximate the eigenvalues of a matrix. Since Givens rotations maintain numerical stability, they are effective for iterative QR methods.\n",
        "\n"
      ]
    },
    {
      "cell_type": "markdown",
      "metadata": {
        "id": "Ml2SzoFeHSky"
      },
      "source": [
        "\n",
        "---\n",
        "\n",
        "## Tasks\n",
        "### **Task 1: QR Factorization using Givens Rotations**\n",
        "1. Implement QR factorization using **Givens rotations**.\n",
        "2. Test your implementation on a sample matrix and verify the results.\n",
        "\n",
        "### **Task 2: QR Factorization using Householder Reflections**\n",
        "1. Implement QR factorization using **Householder reflections** (or reuse your class implementation).\n",
        "2. Compare its performance and results with the Givens rotations method.\n",
        "\n",
        "### **Task 3: QR Factorization using NumPy**\n",
        "1. Use `numpy.linalg.qr` to compute the QR decomposition.\n",
        "2. Compare its results with your previous implementations.\n",
        "\n",
        "### **Task 4: Eigenvalues via the Unshifted QR Algorithm**\n",
        "1. Implement the **unshifted QR method** for eigenvalue computation.\n",
        "2. Apply it using:\n",
        "   - Givens rotations\n",
        "   - Householder reflections\n",
        "   - NumPy's QR factorization\n",
        "3. Analyze the convergence behavior and accuracy.\n",
        "\n",
        "### **Task 5: Performance Comparison and Discussion**\n",
        "1. Compare the computational efficiency of the three QR methods.\n",
        "2. Discuss numerical stability and accuracy.\n",
        "3. Provide plots (if necessary) to illustrate convergence differences.\n",
        "4. Conclude which method is preferable in different scenarios.\n",
        "\n",
        "---\n",
        "\n",
        "## Implementation Details\n",
        "- Use Python and NumPy for implementation.\n",
        "- Ensure code is well-commented and modular.\n",
        "- Test with different matrices (e.g., random, symmetric, and non-symmetric matrices).\n",
        "- Use relative errors to compare accuracy.\n",
        "- Measure execution time for performance analysis.\n",
        "\n",
        "---\n"
      ]
    },
    {
      "cell_type": "markdown",
      "metadata": {},
      "source": [
        "## Implemention\n",
        "### Implementation of QR Algorithm and QR Factorization using Givens rotation\n",
        "Let's implement the QR factorization with Givens rotation that returns two matrices $Q$ and $R$ such that \n",
        "$$R = G_r\\cdots G_2G_1A \\quad\\text{  and  }\\quad Q = G_1^TG_2^T\\cdots G_r^T$$\n",
        "where $G_i$ is a Givens rotation and $r \\leq n(n-1)$ (the number of subdiagonal entries of a $n\\times n$ matrix)"
      ]
    },
    {
      "cell_type": "code",
      "execution_count": 1,
      "metadata": {
        "id": "2dza1OAAJHP4"
      },
      "outputs": [],
      "source": [
        "import matplotlib.pyplot as plt\n",
        "import numpy as np\n",
        "np.set_printoptions(formatter={'float': lambda x: \" {0:0.3f}\".format(x) if x > 0 else \"{0:0.3f}\".format(x)})\n",
        "\n",
        "class GivensQR():\n",
        "    \"\"\"QR Factorization by Givens Rotation\"\"\"\n",
        "\n",
        "    @classmethod\n",
        "    def givens_rotation(cls, a, b):\n",
        "        \"\"\"Given the elements a=Aik and b=Ajk, returns the Givens Rotation to zero out Ajk\"\"\"\n",
        "        c = a / np.sqrt(a**2 + b**2)\n",
        "        s = b / np.sqrt(a**2 + b**2)\n",
        "        return np.array([\n",
        "            [c, s],\n",
        "            [-s, c]\n",
        "        ])\n",
        "\n",
        "    @classmethod\n",
        "    def qr(cls, A):\n",
        "        \"\"\"QR factorization for square matrices using Givens rotations\"\"\"\n",
        "        n = A.shape[0]\n",
        "        it = 0\n",
        "        Q = np.eye(n)\n",
        "        R = A.copy().astype(float)\n",
        "        for j in range(n):\n",
        "            for i in range(j+1, n):\n",
        "                if R[i, j]!=0:\n",
        "                    G = cls.givens_rotation(R[j, j], R[i, j])\n",
        "                    R[[j, i], j:]= G @ R[[j, i], j:]\n",
        "                    Q[:, [j, i]] = Q[:, [j, i]] @ G.T\n",
        "                    it += 1\n",
        "        return Q, R\n",
        "    \n",
        "    @classmethod\n",
        "    def solve(cls, A, k=100):\n",
        "        \"\"\"Unshifted QR Algorithm for Section 4\"\"\"\n",
        "        n = A.shape[0]\n",
        "        Q = np.eye(n)\n",
        "        Qbar = Q.copy().astype(float)\n",
        "        R = A.copy().astype(float)\n",
        "\n",
        "        for _ in range(k):\n",
        "            Q, R = cls.qr(R @ Q)\n",
        "            Qbar = Qbar @ Q  # Accumulate Q’s\n",
        "\n",
        "        lam = np.diag(R @ Q)  # Diagonal elements converge to eigenvalues\n",
        "        return lam, Qbar\n"
      ]
    },
    {
      "cell_type": "markdown",
      "metadata": {},
      "source": [
        "### Implementation of QR Algorithm and QR Factorization using Householder matrices\n",
        "We can take the code for Householder matrices from optional assignment 4 and apply it to the QR Method and the QR Algorithm."
      ]
    },
    {
      "cell_type": "code",
      "execution_count": 2,
      "metadata": {},
      "outputs": [],
      "source": [
        "class HouseholderQR():\n",
        "    \"\"\"Stands for QR Factorization by Householder Reflections\"\"\"\n",
        "\n",
        "    @classmethod\n",
        "    def householder(cls, u):\n",
        "        \"\"\"Construct the householder matrix given a vector u: nx1\"\"\"\n",
        "        n = u.shape[0]\n",
        "        u = u/np.linalg.norm(u)\n",
        "        return np.eye(n) - 2*np.outer(u, u)\n",
        "\n",
        "    @classmethod\n",
        "    def qr(cls, A):\n",
        "        \"\"\"QR factorization for square matrices using Householder reflections\"\"\"\n",
        "        n = A.shape[0]\n",
        "        Q = np.eye(n)\n",
        "        R = A.copy().astype(float)\n",
        "        for i in range(n-1):\n",
        "            x = R[i:, i]\n",
        "            Hx = np.zeros(n-i) \n",
        "            Hx[0] = -np.sign(x[0]) * np.linalg.norm(x)\n",
        "            H = cls.householder(x-Hx)\n",
        "            R[i:, :] = H @ R[i:, :]\n",
        "            Q[:, i:] = Q[:, i:] @ H\n",
        "\n",
        "        return Q, R\n",
        "    \n",
        "    @classmethod\n",
        "    def solve(cls, A, k):\n",
        "        \"\"\"Unshifted QR Algorithm for Section 4\"\"\"\n",
        "        n = A.shape[0]\n",
        "        Q = np.eye(n)\n",
        "        Qbar = Q.copy().astype(float)\n",
        "        R = A.copy().astype(float)\n",
        "\n",
        "        for _ in range(k):\n",
        "            Q, R = cls.qr(R @ Q)  # NumPy QR factorization\n",
        "            Qbar = Qbar @ Q  # Accumulate Q’s\n",
        "\n",
        "        lam = np.diag(R @ Q)  # Diagonal elements converge to eigenvalues\n",
        "        return lam, Qbar"
      ]
    },
    {
      "cell_type": "markdown",
      "metadata": {},
      "source": [
        "### Implementation of QR Algorithm using `np.linalg.qr()`"
      ]
    },
    {
      "cell_type": "code",
      "execution_count": 3,
      "metadata": {},
      "outputs": [],
      "source": [
        "class NumpyQR():\n",
        "    @classmethod\n",
        "    def solve(cls, A, k):\n",
        "        \"\"\"Unshifted QR Algorithm using numpy's qr algorithm\"\"\"\n",
        "        n = A.shape[0]\n",
        "        Q = np.eye(n)\n",
        "        Qbar = Q.copy()\n",
        "        R = A.copy()\n",
        "\n",
        "        for _ in range(k):\n",
        "            Q, R = np.linalg.qr(R @ Q)  # NumPy QR factorization\n",
        "            Qbar = Qbar @ Q  # Accumulate Q’s\n",
        "\n",
        "        lam = np.diag(R @ Q)  # Diagonal elements converge to eigenvalues\n",
        "        return lam, Qbar"
      ]
    },
    {
      "cell_type": "markdown",
      "metadata": {},
      "source": [
        "### Test implemented QR Factorizations against `np.linalg.qr()` \n",
        "To see that the three QR Factorizations work as expected, we test it using an arbitrary symmetric matrix:"
      ]
    },
    {
      "cell_type": "code",
      "execution_count": 4,
      "metadata": {},
      "outputs": [
        {
          "name": "stdout",
          "output_type": "stream",
          "text": [
            "[[ 0.949 -0.294  0.116]\n",
            " [ 0.316  0.882 -0.349]\n",
            " [0.000  0.368  0.930]] \n",
            " [[ 3.162  1.897  0.316]\n",
            " [0.000  2.720  1.985]\n",
            " [0.000 -0.000  2.441]]\n",
            "\n",
            " [[-0.949  0.294  0.116]\n",
            " [-0.316 -0.882 -0.349]\n",
            " [0.000 -0.368  0.930]] \n",
            " [[-3.162 -1.897 -0.316]\n",
            " [0.000 -2.720 -1.985]\n",
            " [0.000  0.000  2.441]]\n",
            "\n",
            " [[-0.949  0.294  0.116]\n",
            " [-0.316 -0.882 -0.349]\n",
            " [-0.000 -0.368  0.930]] \n",
            " [[-3.162 -1.897 -0.316]\n",
            " [0.000 -2.720 -1.985]\n",
            " [0.000 0.000  2.441]]\n"
          ]
        }
      ],
      "source": [
        "# TEST\n",
        "A = np.array([\n",
        "    [3, 1, 0],\n",
        "    [1, 3, 1],\n",
        "    [0, 1, 3]\n",
        "])\n",
        "Q, R = GivensQR.qr(A)\n",
        "print(Q, \"\\n\", R)\n",
        "Q, R = HouseholderQR.qr(A)\n",
        "print(\"\\n\", Q, \"\\n\", R)\n",
        "Q, R = np.linalg.qr(A)\n",
        "print(\"\\n\", Q, \"\\n\", R)"
      ]
    },
    {
      "cell_type": "markdown",
      "metadata": {},
      "source": [
        "We can see that all three methods outputs the same matrices."
      ]
    },
    {
      "cell_type": "markdown",
      "metadata": {},
      "source": [
        "### Compare the different Unshifted QR Methods"
      ]
    },
    {
      "cell_type": "markdown",
      "metadata": {},
      "source": [
        "Let's check how each QR Algorithm performs against each other."
      ]
    },
    {
      "cell_type": "code",
      "execution_count": 5,
      "metadata": {},
      "outputs": [
        {
          "data": {
            "image/png": "[encoded data removed]",
            "text/plain": [
              "<Figure size 640x480 with 1 Axes>"
            ]
          },
          "metadata": {},
          "output_type": "display_data"
        }
      ],
      "source": [
        "import time\n",
        "\n",
        "def generate_symmetric_matrix(N):\n",
        "    A = np.random.rand(N, N)\n",
        "    return (A + A.T) / 2  # Ensure symmetry\n",
        "\n",
        "k=100\n",
        "N_values = [4, 8, 16, 32, 64, 96, 128]\n",
        "matrices = [generate_symmetric_matrix(N) for N in N_values]\n",
        "times = [[], [], []]\n",
        "for A in matrices:\n",
        "    start = time.time()\n",
        "    GivensQR.solve(A, k)\n",
        "    times[0].append(time.time() - start)\n",
        "\n",
        "    start = time.time()\n",
        "    Q, R = HouseholderQR.solve(A, k)\n",
        "    times[1].append(time.time() - start)\n",
        "\n",
        "    start = time.time()\n",
        "    Q, R = NumpyQR.solve(A, k)\n",
        "    times[2].append(time.time() - start)\n",
        "\n",
        "plt.plot(N_values, times[0], 'o-', label='Givens')\n",
        "plt.plot(N_values, times[1], 's-', label='Householder')\n",
        "plt.plot(N_values, times[2], '^-', label='NumPy')\n",
        "plt.xlabel('Matrix Size (n)')\n",
        "plt.ylabel('Time (s)')\n",
        "plt.title('QR Factorization Performance Comparison')\n",
        "plt.legend()\n",
        "plt.grid()\n",
        "plt.show()"
      ]
    },
    {
      "cell_type": "markdown",
      "metadata": {},
      "source": [
        "As expected, Givens rotation is the slowest algorithm since it iterates through each off-diagonal entry one by one. Meanwhile, our QR algorithm using Householder matrices is very similar in time complexity to numpy's. We should expect numpy to always outperform the other two methods as it is written in C and has other more optimizations implemented in it."
      ]
    },
    {
      "cell_type": "markdown",
      "metadata": {},
      "source": [
        "### Accuracy and Convergence\n",
        "\n",
        "The accuracy and convergence of the three algorithms should be the same because the output of the three different QR Factorizations are the same. To verify this, let's plot the progression of the norm of the off-diagonal elements for each QR Algorithm. "
      ]
    },
    {
      "cell_type": "code",
      "execution_count": 6,
      "metadata": {},
      "outputs": [
        {
          "data": {
            "image/png": "[encoded data removed]",
            "text/plain": [
              "<Figure size 640x480 with 1 Axes>"
            ]
          },
          "metadata": {},
          "output_type": "display_data"
        }
      ],
      "source": [
        "class MatrixOperations():\n",
        "    @staticmethod\n",
        "    def off_diag_norm(A: np.ndarray) -> float:\n",
        "        off_diag = np.tril(np.abs(A - np.diag(np.diag(A))),-1)\n",
        "        return np.linalg.norm(off_diag)\n",
        "\n",
        "class TestGivensQR(GivensQR):\n",
        "    @classmethod\n",
        "    def solve(cls, A, k=100):\n",
        "        \"\"\"Unshifted QR Algorithm for Section 4\"\"\"\n",
        "        n = A.shape[0]\n",
        "        Q = np.eye(n)\n",
        "        Qbar = Q.copy().astype(float)\n",
        "        R = A.copy().astype(float)\n",
        "        norms = [MatrixOperations.off_diag_norm(R)]\n",
        "\n",
        "        for _ in range(k):\n",
        "            RQ = R @ Q\n",
        "            Q, R = cls.qr(RQ)  # NumPy QR factorization\n",
        "            Qbar = Qbar @ Q  # Accumulate Q’s\n",
        "            norms.append(MatrixOperations.off_diag_norm(RQ))\n",
        "\n",
        "        lam = np.diag(R @ Q)  # Diagonal elements converge to eigenvalues\n",
        "        return lam, Qbar, norms\n",
        "    \n",
        "class TestHouseholderQR(HouseholderQR):\n",
        "    @classmethod\n",
        "    def solve(cls, A, k):\n",
        "        \"\"\"Unshifted QR Algorithm for Section 4\"\"\"\n",
        "        n = A.shape[0]\n",
        "        Q = np.eye(n)\n",
        "        Qbar = Q.copy().astype(float)\n",
        "        R = A.copy().astype(float)\n",
        "        norms = [MatrixOperations.off_diag_norm(R)]\n",
        "\n",
        "        for _ in range(k):\n",
        "            RQ = R @ Q\n",
        "            Q, R = cls.qr(RQ)  # NumPy QR factorization\n",
        "            Qbar = Qbar @ Q  # Accumulate Q’s\n",
        "            norms.append(MatrixOperations.off_diag_norm(RQ))\n",
        "\n",
        "        lam = np.diag(R @ Q)  # Diagonal elements converge to eigenvalues\n",
        "        return lam, Qbar, norms\n",
        "    \n",
        "class TestNumpyQR(NumpyQR):\n",
        "    @classmethod\n",
        "    def solve(cls, A, k):\n",
        "        \"\"\"Unshifted QR Algorithm using numpy's qr algorithm\"\"\"\n",
        "        n = A.shape[0]\n",
        "        Q = np.eye(n)\n",
        "        Qbar = Q.copy()\n",
        "        R = A.copy()\n",
        "        norms = [MatrixOperations.off_diag_norm(R)]\n",
        "                 \n",
        "        for _ in range(k):\n",
        "            RQ = R @ Q\n",
        "            Q, R = np.linalg.qr(RQ)  # NumPy QR factorization\n",
        "            Qbar = Qbar @ Q  # Accumulate Q’s\n",
        "            norms.append(MatrixOperations.off_diag_norm(RQ))\n",
        "\n",
        "        lam = np.diag(R @ Q)  # Diagonal elements converge to eigenvalues\n",
        "        return lam, Qbar, norms\n",
        "\n",
        "matrix = matrices[-1]\n",
        "k = 100\n",
        "results1 = TestGivensQR.solve(matrix, k)\n",
        "results2 = TestHouseholderQR.solve(matrix, k)\n",
        "results3 = TestNumpyQR.solve(matrix, k)\n",
        "plt.plot(results1[2], label='givens', color='blue')\n",
        "plt.plot(results2[2], label='householder', color='red')\n",
        "plt.plot(results3[2], label='np', color='green')\n",
        "plt.axline((0, 0), linestyle='dotted', slope=0, color='black')\n",
        "plt.xlabel('Iteration')\n",
        "plt.ylabel('Norm of off-diagonal elements')\n",
        "plt.title(f'Progression of the norm of off-diagonals (N={matrix.shape[0]})')\n",
        "plt.legend()\n",
        "plt.show()\n"
      ]
    },
    {
      "cell_type": "markdown",
      "metadata": {},
      "source": [
        "Indeed, all three converge at the same rate."
      ]
    },
    {
      "cell_type": "markdown",
      "metadata": {},
      "source": [
        "### Performance comparision\n",
        "\n",
        "Let's compare the time efficiency of each unshifted QR algorithm by benchmarking, using Jupyter Notebook's provided magic commands `%%timeit`"
      ]
    },
    {
      "cell_type": "code",
      "execution_count": null,
      "metadata": {},
      "outputs": [],
      "source": [
        "from scipy.sparse import random\n",
        "\n",
        "class TestGivensQR(GivensQR):\n",
        "    @classmethod\n",
        "    def solve(cls, A, k=100):\n",
        "        \"\"\"Unshifted QR Algorithm for Section 4\"\"\"\n",
        "        Q = np.eye(A.shape[0])\n",
        "        Qbar = Q.copy().astype(float)\n",
        "        R = A.copy().astype(float)\n",
        "\n",
        "        for _ in range(k):\n",
        "            Q, R = cls.qr(R @ Q)  # NumPy QR factorization\n",
        "            Qbar = Qbar @ Q  # Accumulate Q’s\n",
        "\n",
        "        lam = np.diag(R @ Q)  # Diagonal elements converge to eigenvalues\n",
        "        return lam, Qbar\n",
        "    \n",
        "class TestHouseholderQR(HouseholderQR):\n",
        "    @classmethod\n",
        "    def solve(cls, A, k):\n",
        "        \"\"\"Unshifted QR Algorithm for Section 4\"\"\"\n",
        "        Q = np.eye(A.shape[0])\n",
        "        Qbar = Q.copy().astype(float)\n",
        "        R = A.copy().astype(float)\n",
        "\n",
        "        for _ in range(k):\n",
        "            Q, R = cls.qr(R @ Q)  # NumPy QR factorization\n",
        "            Qbar = Qbar @ Q  # Accumulate Q’s\n",
        "\n",
        "        lam = np.diag(R @ Q)  # Diagonal elements converge to eigenvalues\n",
        "        return lam, Qbar\n",
        "    \n",
        "class TestNumpyQR(NumpyQR):\n",
        "    @classmethod\n",
        "    def qr(cls, A):\n",
        "        return np.linalg.qr(A)\n",
        "\n",
        "    @classmethod\n",
        "    def solve(cls, A, k):\n",
        "        \"\"\"Unshifted QR Algorithm using numpy's qr algorithm\"\"\"\n",
        "        Q = np.eye(A.shape[0])\n",
        "        Qbar = Q.copy().astype(float)\n",
        "        R = A.copy().astype(float)\n",
        "                 \n",
        "        for _ in range(k):\n",
        "            Q, R = cls.qr(R @ Q)  # NumPy QR factorization\n",
        "            Qbar = Qbar @ Q  # Accumulate Q’s\n",
        "\n",
        "        lam = np.diag(R @ Q)  # Diagonal elements converge to eigenvalues\n",
        "        return lam, Qbar\n",
        "\n",
        "mstrix = matrices[-1]\n",
        "\n",
        "sparse_matrix = random(128, 128, density=0.1, format='csr', dtype=np.float64).toarray()\n",
        "sparse_matrix = (sparse_matrix + sparse_matrix.T) / 2"
      ]
    },
    {
      "cell_type": "markdown",
      "metadata": {},
      "source": [
        "#### Dense Matrices"
      ]
    },
    {
      "cell_type": "code",
      "execution_count": 8,
      "metadata": {},
      "outputs": [
        {
          "name": "stdout",
          "output_type": "stream",
          "text": [
            "8.5 s ± 259 ms per loop (mean ± std. dev. of 7 runs, 1 loop each)\n"
          ]
        }
      ],
      "source": [
        "%%timeit\n",
        "TestGivensQR.solve(matrix, k)"
      ]
    },
    {
      "cell_type": "code",
      "execution_count": 9,
      "metadata": {},
      "outputs": [
        {
          "name": "stdout",
          "output_type": "stream",
          "text": [
            "1.03 s ± 41.5 ms per loop (mean ± std. dev. of 7 runs, 1 loop each)\n"
          ]
        }
      ],
      "source": [
        "%%timeit\n",
        "TestHouseholderQR.solve(matrix, k)"
      ]
    },
    {
      "cell_type": "code",
      "execution_count": 10,
      "metadata": {},
      "outputs": [
        {
          "name": "stdout",
          "output_type": "stream",
          "text": [
            "558 ms ± 4.74 ms per loop (mean ± std. dev. of 7 runs, 1 loop each)\n"
          ]
        }
      ],
      "source": [
        "%%timeit\n",
        "TestNumpyQR.solve(matrix, k)"
      ]
    },
    {
      "cell_type": "markdown",
      "metadata": {},
      "source": [
        "This shows that the QR Factorization implemented by `numpy` is around 2 times and 10 times faster compared to QR factorization by Householder Reflexions and Givens Rotations respectively. "
      ]
    },
    {
      "cell_type": "markdown",
      "metadata": {},
      "source": [
        "### Sparse Matrices\n",
        "\n",
        "But of course, Givens rotations works best when we are given a sparse matrix. Therefore, we should also tests the three algorithms using a large sparse matrix.\n"
      ]
    },
    {
      "cell_type": "code",
      "execution_count": 11,
      "metadata": {},
      "outputs": [
        {
          "name": "stdout",
          "output_type": "stream",
          "text": [
            "75 ms ± 1.14 ms per loop (mean ± std. dev. of 7 runs, 10 loops each)\n"
          ]
        }
      ],
      "source": [
        "%%timeit\n",
        "TestGivensQR.qr(sparse_matrix)"
      ]
    },
    {
      "cell_type": "code",
      "execution_count": 12,
      "metadata": {},
      "outputs": [
        {
          "name": "stdout",
          "output_type": "stream",
          "text": [
            "9.63 ms ± 112 μs per loop (mean ± std. dev. of 7 runs, 100 loops each)\n"
          ]
        }
      ],
      "source": [
        "%%timeit\n",
        "TestHouseholderQR.qr(sparse_matrix)"
      ]
    },
    {
      "cell_type": "code",
      "execution_count": 13,
      "metadata": {},
      "outputs": [
        {
          "name": "stdout",
          "output_type": "stream",
          "text": [
            "4.76 ms ± 82.2 μs per loop (mean ± std. dev. of 7 runs, 100 loops each)\n"
          ]
        }
      ],
      "source": [
        "%%timeit\n",
        "TestNumpyQR.qr(sparse_matrix)"
      ]
    },
    {
      "cell_type": "markdown",
      "metadata": {},
      "source": [
        "However, Givens rotations still perform slower than the rest for a matrix of size 128 and density 0.1. "
      ]
    }
  ],
  "metadata": {
    "colab": {
      "provenance": []
    },
    "kernelspec": {
      "display_name": "Python 3",
      "name": "python3"
    },
    "language_info": {
      "codemirror_mode": {
        "name": "ipython",
        "version": 3
      },
      "file_extension": ".py",
      "mimetype": "text/x-python",
      "name": "python",
      "nbconvert_exporter": "python",
      "pygments_lexer": "ipython3",
      "version": "3.13.1"
    }
  },
  "nbformat": 4,
  "nbformat_minor": 0
}
